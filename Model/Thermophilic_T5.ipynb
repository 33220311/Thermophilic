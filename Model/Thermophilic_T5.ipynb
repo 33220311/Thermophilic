{
  "cells": [
    {
      "cell_type": "code",
      "execution_count": 1,
      "metadata": {
        "colab": {
          "base_uri": "https://localhost:8080/"
        },
        "id": "b74l0wAtgWzn",
        "outputId": "49a9dd5c-3c8e-4e70-859c-c7f8eaebb74c"
      },
      "outputs": [
        {
          "output_type": "stream",
          "name": "stdout",
          "text": [
            "Looking in indexes: https://pypi.org/simple, https://us-python.pkg.dev/colab-wheels/public/simple/\n",
            "Collecting sklearn-evaluation\n",
            "  Downloading sklearn_evaluation-0.7.2-py3-none-any.whl (47 kB)\n",
            "\u001b[K     |████████████████████████████████| 47 kB 4.0 MB/s \n",
            "\u001b[?25hRequirement already satisfied: parso in /usr/local/lib/python3.7/dist-packages (from sklearn-evaluation) (0.8.3)\n",
            "Requirement already satisfied: nbformat in /usr/local/lib/python3.7/dist-packages (from sklearn-evaluation) (5.7.0)\n",
            "Collecting black\n",
            "  Downloading black-22.10.0-cp37-cp37m-manylinux_2_17_x86_64.manylinux2014_x86_64.whl (1.5 MB)\n",
            "\u001b[K     |████████████████████████████████| 1.5 MB 37.6 MB/s \n",
            "\u001b[?25hRequirement already satisfied: ipython in /usr/local/lib/python3.7/dist-packages (from sklearn-evaluation) (7.9.0)\n",
            "Requirement already satisfied: mistune in /usr/local/lib/python3.7/dist-packages (from sklearn-evaluation) (0.8.4)\n",
            "Requirement already satisfied: matplotlib in /usr/local/lib/python3.7/dist-packages (from sklearn-evaluation) (3.2.2)\n",
            "Requirement already satisfied: scikit-learn in /usr/local/lib/python3.7/dist-packages (from sklearn-evaluation) (1.0.2)\n",
            "Requirement already satisfied: decorator in /usr/local/lib/python3.7/dist-packages (from sklearn-evaluation) (4.4.2)\n",
            "Requirement already satisfied: importlib-metadata in /usr/local/lib/python3.7/dist-packages (from sklearn-evaluation) (4.13.0)\n",
            "Requirement already satisfied: tabulate in /usr/local/lib/python3.7/dist-packages (from sklearn-evaluation) (0.8.10)\n",
            "Collecting ploomber-core>=0.0.4\n",
            "  Downloading ploomber_core-0.0.6-py3-none-any.whl (14 kB)\n",
            "Requirement already satisfied: pandas in /usr/local/lib/python3.7/dist-packages (from sklearn-evaluation) (1.3.5)\n",
            "Requirement already satisfied: jinja2 in /usr/local/lib/python3.7/dist-packages (from sklearn-evaluation) (2.11.3)\n",
            "Collecting posthog\n",
            "  Downloading posthog-2.1.2-py2.py3-none-any.whl (32 kB)\n",
            "Requirement already satisfied: pyyaml in /usr/local/lib/python3.7/dist-packages (from ploomber-core>=0.0.4->sklearn-evaluation) (6.0)\n",
            "Requirement already satisfied: click in /usr/local/lib/python3.7/dist-packages (from ploomber-core>=0.0.4->sklearn-evaluation) (7.1.2)\n",
            "Collecting click\n",
            "  Downloading click-8.1.3-py3-none-any.whl (96 kB)\n",
            "\u001b[K     |████████████████████████████████| 96 kB 5.8 MB/s \n",
            "\u001b[?25hCollecting platformdirs>=2\n",
            "  Downloading platformdirs-2.5.2-py3-none-any.whl (14 kB)\n",
            "Collecting typed-ast>=1.4.2\n",
            "  Downloading typed_ast-1.5.4-cp37-cp37m-manylinux_2_5_x86_64.manylinux1_x86_64.manylinux_2_12_x86_64.manylinux2010_x86_64.whl (843 kB)\n",
            "\u001b[K     |████████████████████████████████| 843 kB 50.0 MB/s \n",
            "\u001b[?25hCollecting mypy-extensions>=0.4.3\n",
            "  Downloading mypy_extensions-0.4.3-py2.py3-none-any.whl (4.5 kB)\n",
            "Requirement already satisfied: typing-extensions>=3.10.0.0 in /usr/local/lib/python3.7/dist-packages (from black->sklearn-evaluation) (4.1.1)\n",
            "Requirement already satisfied: tomli>=1.1.0 in /usr/local/lib/python3.7/dist-packages (from black->sklearn-evaluation) (2.0.1)\n",
            "Collecting pathspec>=0.9.0\n",
            "  Downloading pathspec-0.10.1-py3-none-any.whl (27 kB)\n",
            "Requirement already satisfied: zipp>=0.5 in /usr/local/lib/python3.7/dist-packages (from importlib-metadata->sklearn-evaluation) (3.9.0)\n",
            "Requirement already satisfied: pickleshare in /usr/local/lib/python3.7/dist-packages (from ipython->sklearn-evaluation) (0.7.5)\n",
            "Requirement already satisfied: pygments in /usr/local/lib/python3.7/dist-packages (from ipython->sklearn-evaluation) (2.6.1)\n",
            "Requirement already satisfied: traitlets>=4.2 in /usr/local/lib/python3.7/dist-packages (from ipython->sklearn-evaluation) (5.1.1)\n",
            "Collecting jedi>=0.10\n",
            "  Downloading jedi-0.18.1-py2.py3-none-any.whl (1.6 MB)\n",
            "\u001b[K     |████████████████████████████████| 1.6 MB 62.6 MB/s \n",
            "\u001b[?25hRequirement already satisfied: setuptools>=18.5 in /usr/local/lib/python3.7/dist-packages (from ipython->sklearn-evaluation) (57.4.0)\n",
            "Requirement already satisfied: pexpect in /usr/local/lib/python3.7/dist-packages (from ipython->sklearn-evaluation) (4.8.0)\n",
            "Requirement already satisfied: prompt-toolkit<2.1.0,>=2.0.0 in /usr/local/lib/python3.7/dist-packages (from ipython->sklearn-evaluation) (2.0.10)\n",
            "Requirement already satisfied: backcall in /usr/local/lib/python3.7/dist-packages (from ipython->sklearn-evaluation) (0.2.0)\n",
            "Requirement already satisfied: wcwidth in /usr/local/lib/python3.7/dist-packages (from prompt-toolkit<2.1.0,>=2.0.0->ipython->sklearn-evaluation) (0.2.5)\n",
            "Requirement already satisfied: six>=1.9.0 in /usr/local/lib/python3.7/dist-packages (from prompt-toolkit<2.1.0,>=2.0.0->ipython->sklearn-evaluation) (1.15.0)\n",
            "Requirement already satisfied: MarkupSafe>=0.23 in /usr/local/lib/python3.7/dist-packages (from jinja2->sklearn-evaluation) (2.0.1)\n",
            "Requirement already satisfied: cycler>=0.10 in /usr/local/lib/python3.7/dist-packages (from matplotlib->sklearn-evaluation) (0.11.0)\n",
            "Requirement already satisfied: kiwisolver>=1.0.1 in /usr/local/lib/python3.7/dist-packages (from matplotlib->sklearn-evaluation) (1.4.4)\n",
            "Requirement already satisfied: pyparsing!=2.0.4,!=2.1.2,!=2.1.6,>=2.0.1 in /usr/local/lib/python3.7/dist-packages (from matplotlib->sklearn-evaluation) (3.0.9)\n",
            "Requirement already satisfied: numpy>=1.11 in /usr/local/lib/python3.7/dist-packages (from matplotlib->sklearn-evaluation) (1.21.6)\n",
            "Requirement already satisfied: python-dateutil>=2.1 in /usr/local/lib/python3.7/dist-packages (from matplotlib->sklearn-evaluation) (2.8.2)\n",
            "Requirement already satisfied: fastjsonschema in /usr/local/lib/python3.7/dist-packages (from nbformat->sklearn-evaluation) (2.16.2)\n",
            "Requirement already satisfied: jupyter-core in /usr/local/lib/python3.7/dist-packages (from nbformat->sklearn-evaluation) (4.11.2)\n",
            "Requirement already satisfied: jsonschema>=2.6 in /usr/local/lib/python3.7/dist-packages (from nbformat->sklearn-evaluation) (4.3.3)\n",
            "Requirement already satisfied: importlib-resources>=1.4.0 in /usr/local/lib/python3.7/dist-packages (from jsonschema>=2.6->nbformat->sklearn-evaluation) (5.10.0)\n",
            "Requirement already satisfied: pyrsistent!=0.17.0,!=0.17.1,!=0.17.2,>=0.14.0 in /usr/local/lib/python3.7/dist-packages (from jsonschema>=2.6->nbformat->sklearn-evaluation) (0.18.1)\n",
            "Requirement already satisfied: attrs>=17.4.0 in /usr/local/lib/python3.7/dist-packages (from jsonschema>=2.6->nbformat->sklearn-evaluation) (22.1.0)\n",
            "Requirement already satisfied: pytz>=2017.3 in /usr/local/lib/python3.7/dist-packages (from pandas->sklearn-evaluation) (2022.5)\n",
            "Requirement already satisfied: ptyprocess>=0.5 in /usr/local/lib/python3.7/dist-packages (from pexpect->ipython->sklearn-evaluation) (0.7.0)\n",
            "Requirement already satisfied: requests<3.0,>=2.7 in /usr/local/lib/python3.7/dist-packages (from posthog->ploomber-core>=0.0.4->sklearn-evaluation) (2.23.0)\n",
            "Collecting monotonic>=1.5\n",
            "  Downloading monotonic-1.6-py2.py3-none-any.whl (8.2 kB)\n",
            "Collecting backoff<2.0.0,>=1.10.0\n",
            "  Downloading backoff-1.11.1-py2.py3-none-any.whl (13 kB)\n",
            "Requirement already satisfied: certifi>=2017.4.17 in /usr/local/lib/python3.7/dist-packages (from requests<3.0,>=2.7->posthog->ploomber-core>=0.0.4->sklearn-evaluation) (2022.9.24)\n",
            "Requirement already satisfied: urllib3!=1.25.0,!=1.25.1,<1.26,>=1.21.1 in /usr/local/lib/python3.7/dist-packages (from requests<3.0,>=2.7->posthog->ploomber-core>=0.0.4->sklearn-evaluation) (1.24.3)\n",
            "Requirement already satisfied: chardet<4,>=3.0.2 in /usr/local/lib/python3.7/dist-packages (from requests<3.0,>=2.7->posthog->ploomber-core>=0.0.4->sklearn-evaluation) (3.0.4)\n",
            "Requirement already satisfied: idna<3,>=2.5 in /usr/local/lib/python3.7/dist-packages (from requests<3.0,>=2.7->posthog->ploomber-core>=0.0.4->sklearn-evaluation) (2.10)\n",
            "Requirement already satisfied: joblib>=0.11 in /usr/local/lib/python3.7/dist-packages (from scikit-learn->sklearn-evaluation) (1.2.0)\n",
            "Requirement already satisfied: threadpoolctl>=2.0.0 in /usr/local/lib/python3.7/dist-packages (from scikit-learn->sklearn-evaluation) (3.1.0)\n",
            "Requirement already satisfied: scipy>=1.1.0 in /usr/local/lib/python3.7/dist-packages (from scikit-learn->sklearn-evaluation) (1.7.3)\n",
            "Installing collected packages: monotonic, backoff, typed-ast, posthog, platformdirs, pathspec, mypy-extensions, jedi, click, ploomber-core, black, sklearn-evaluation\n",
            "  Attempting uninstall: click\n",
            "    Found existing installation: click 7.1.2\n",
            "    Uninstalling click-7.1.2:\n",
            "      Successfully uninstalled click-7.1.2\n",
            "\u001b[31mERROR: pip's dependency resolver does not currently take into account all the packages that are installed. This behaviour is the source of the following dependency conflicts.\n",
            "flask 1.1.4 requires click<8.0,>=5.1, but you have click 8.1.3 which is incompatible.\u001b[0m\n",
            "Successfully installed backoff-1.11.1 black-22.10.0 click-8.1.3 jedi-0.18.1 monotonic-1.6 mypy-extensions-0.4.3 pathspec-0.10.1 platformdirs-2.5.2 ploomber-core-0.0.6 posthog-2.1.2 sklearn-evaluation-0.7.2 typed-ast-1.5.4\n"
          ]
        }
      ],
      "source": [
        "!pip install sklearn-evaluation"
      ]
    },
    {
      "cell_type": "code",
      "execution_count": 2,
      "metadata": {
        "colab": {
          "base_uri": "https://localhost:8080/"
        },
        "id": "CaL2ks-meLOL",
        "outputId": "4e1ae853-9856-44dd-a7f6-4d11a5fda965"
      },
      "outputs": [
        {
          "output_type": "stream",
          "name": "stdout",
          "text": [
            "Looking in indexes: https://pypi.org/simple, https://us-python.pkg.dev/colab-wheels/public/simple/\n",
            "Collecting xlsxwriter\n",
            "  Downloading XlsxWriter-3.0.3-py3-none-any.whl (149 kB)\n",
            "\u001b[K     |████████████████████████████████| 149 kB 25.2 MB/s \n",
            "\u001b[?25hInstalling collected packages: xlsxwriter\n",
            "Successfully installed xlsxwriter-3.0.3\n"
          ]
        }
      ],
      "source": [
        "!pip install xlsxwriter"
      ]
    },
    {
      "cell_type": "code",
      "execution_count": 3,
      "metadata": {
        "id": "CoTuyH3VsxAI"
      },
      "outputs": [],
      "source": [
        "import numpy as np\n",
        "import h5py\n",
        "import tensorflow as tf\n",
        "import pandas as pd\n",
        "from pandas import DataFrame\n",
        "\n",
        "# Data utilities\n",
        "from pandas import read_csv\n",
        "import matplotlib.pyplot as plt\n",
        "# Data visualization\n",
        "import plotly.express as px\n",
        "\n",
        "# Machine learning\n",
        "from sklearn.neural_network import MLPClassifier\n",
        "from sklearn.model_selection import GridSearchCV\n",
        "from sklearn.metrics import accuracy_score\n",
        "from sklearn.metrics import classification_report\n",
        "from sklearn.metrics import matthews_corrcoef\n",
        "from sklearn.model_selection import cross_val_score\n",
        "from sklearn_evaluation import plot"
      ]
    },
    {
      "cell_type": "code",
      "execution_count": 5,
      "metadata": {
        "colab": {
          "base_uri": "https://localhost:8080/"
        },
        "id": "Tdo1PbAg2dWN",
        "outputId": "3ba87de9-2d79-46e1-9f5f-091734f0fb5c"
      },
      "outputs": [
        {
          "output_type": "stream",
          "name": "stdout",
          "text": [
            "Mounted at /content/drive\n"
          ]
        }
      ],
      "source": [
        "from google.colab import drive\n",
        "drive.mount('/content/drive')"
      ]
    },
    {
      "cell_type": "code",
      "execution_count": 6,
      "metadata": {
        "colab": {
          "base_uri": "https://localhost:8080/"
        },
        "id": "cOHIvuD4ZMKw",
        "outputId": "0f2bb8d1-243c-4ea1-dc69-ec65209b1605"
      },
      "outputs": [
        {
          "output_type": "stream",
          "name": "stdout",
          "text": [
            "--2022-10-26 05:06:21--  https://raw.githubusercontent.com/33220311/Extremophiles/main/MergedAnnotations1024.csv\n",
            "Resolving raw.githubusercontent.com (raw.githubusercontent.com)... 185.199.108.133, 185.199.109.133, 185.199.110.133, ...\n",
            "Connecting to raw.githubusercontent.com (raw.githubusercontent.com)|185.199.108.133|:443... connected.\n",
            "HTTP request sent, awaiting response... 200 OK\n",
            "Length: 122008 (119K) [text/plain]\n",
            "Saving to: ‘MergedAnnotations1024.csv’\n",
            "\n",
            "\r          MergedAnn   0%[                    ]       0  --.-KB/s               \rMergedAnnotations10 100%[===================>] 119.15K  --.-KB/s    in 0.004s  \n",
            "\n",
            "2022-10-26 05:06:21 (30.7 MB/s) - ‘MergedAnnotations1024.csv’ saved [122008/122008]\n",
            "\n",
            "--2022-10-26 05:06:21--  https://github.com/33220311/Extremophiles/raw/main/thermophilic_embedding.h5\n",
            "Resolving github.com (github.com)... 140.82.114.4\n",
            "Connecting to github.com (github.com)|140.82.114.4|:443... connected.\n",
            "HTTP request sent, awaiting response... 302 Found\n",
            "Location: https://raw.githubusercontent.com/33220311/Extremophiles/main/thermophilic_embedding.h5 [following]\n",
            "--2022-10-26 05:06:21--  https://raw.githubusercontent.com/33220311/Extremophiles/main/thermophilic_embedding.h5\n",
            "Resolving raw.githubusercontent.com (raw.githubusercontent.com)... 185.199.109.133, 185.199.108.133, 185.199.110.133, ...\n",
            "Connecting to raw.githubusercontent.com (raw.githubusercontent.com)|185.199.109.133|:443... connected.\n",
            "HTTP request sent, awaiting response... 200 OK\n",
            "Length: 15672848 (15M) [application/octet-stream]\n",
            "Saving to: ‘thermophilic_embedding.h5’\n",
            "\n",
            "thermophilic_embedd 100%[===================>]  14.95M  --.-KB/s    in 0.05s   \n",
            "\n",
            "2022-10-26 05:06:21 (296 MB/s) - ‘thermophilic_embedding.h5’ saved [15672848/15672848]\n",
            "\n"
          ]
        }
      ],
      "source": [
        "!wget https://raw.githubusercontent.com/33220311/Extremophiles/main/MergedAnnotations1024.csv\n",
        "!wget https://github.com/33220311/Extremophiles/raw/main/thermophilic_embedding.h5"
      ]
    },
    {
      "cell_type": "markdown",
      "metadata": {
        "id": "ydyh-KnUWTNV"
      },
      "source": [
        "## Utility Function"
      ]
    },
    {
      "cell_type": "code",
      "execution_count": 7,
      "metadata": {
        "id": "-MIcQL7TV7AE"
      },
      "outputs": [],
      "source": [
        "# Utility function: plot model's accuracy and loss\n",
        "\n",
        "# https://realpython.com/python-keras-text-classification/\n",
        "plt.style.use('ggplot')\n",
        "\n",
        "def plot_history(history):\n",
        "  acc = history.history['accuracy']\n",
        "  val_acc = history.history['val_accuracy']\n",
        "  loss = history.history['loss']\n",
        "  val_loss = history.history['val_loss']\n",
        "  x = range(1, len(acc) + 1)\n",
        "\n",
        "  plt.figure(figsize=(12, 5))\n",
        "  plt.subplot(1, 2, 1)\n",
        "  plt.plot(x, acc, 'b', label='Training acc')\n",
        "  plt.plot(x, val_acc, 'r', label='Validation acc')\n",
        "  plt.title('Training and validation accuracy')\n",
        "  plt.legend()\n",
        "\n",
        "  plt.subplot(1, 2, 2)\n",
        "  plt.plot(x, loss, 'b', label='Training loss')\n",
        "  plt.plot(x, val_loss, 'r', label='Validation loss')\n",
        "  plt.title('Training and validation loss')\n",
        "  plt.legend()"
      ]
    },
    {
      "cell_type": "code",
      "execution_count": 8,
      "metadata": {
        "id": "1miZbCjfWcl3"
      },
      "outputs": [],
      "source": [
        "# Utility function: Display model score(Loss & Accuracy) across all sets.\n",
        "\n",
        "def display_model_score(model, train, val, test, batch_size):\n",
        "\n",
        "  train_score = model.evaluate(train[0], train[1], batch_size=batch_size, verbose=1)\n",
        "  print('Train loss: ', train_score[0])\n",
        "  print('Train accuracy: ', train_score[1])\n",
        "  print('-'*70)\n",
        "\n",
        "  val_score = model.evaluate(val[0], val[1], batch_size=batch_size, verbose=1)\n",
        "  print('Val loss: ', val_score[0])\n",
        "  print('Val accuracy: ', val_score[1])\n",
        "  print('-'*70)\n",
        "  \n",
        "  test_score = model.evaluate(test[0], test[1], batch_size=batch_size, verbose=1)\n",
        "  print('Test loss: ', test_score[0])\n",
        "  print('Test accuracy: ', test_score[1])"
      ]
    },
    {
      "cell_type": "code",
      "execution_count": 9,
      "metadata": {
        "id": "VpxhCHwhne2g"
      },
      "outputs": [],
      "source": [
        "def equal_error_rate(y_true, y_pred):\n",
        "    n_imp = tf.count_nonzero(tf.equal(y_true, 0), dtype=tf.float32) + tf.constant(K.epsilon())\n",
        "    n_gen = tf.count_nonzero(tf.equal(y_true, 1), dtype=tf.float32) + tf.constant(K.epsilon())\n",
        "\n",
        "    scores_imp = tf.boolean_mask(y_pred, tf.equal(y_true, 0))\n",
        "    scores_gen = tf.boolean_mask(y_pred, tf.equal(y_true, 1))\n",
        "\n",
        "    loop_vars = (tf.constant(0.0), tf.constant(1.0), tf.constant(0.0))\n",
        "    cond = lambda t, fpr, fnr: tf.greater_equal(fpr, fnr)\n",
        "    body = lambda t, fpr, fnr: (\n",
        "        t + 0.001,\n",
        "        tf.divide(tf.count_nonzero(tf.greater_equal(scores_imp, t), dtype=tf.float32), n_imp),\n",
        "        tf.divide(tf.count_nonzero(tf.less(scores_gen, t), dtype=tf.float32), n_gen)\n",
        "    )\n",
        "    t, fpr, fnr = tf.while_loop(cond, body, loop_vars, back_prop=False)\n",
        "    eer = (fpr + fnr) / 2\n",
        "\n",
        "    return eer"
      ]
    },
    {
      "cell_type": "markdown",
      "metadata": {
        "id": "VwrEQOWRAufE"
      },
      "source": [
        "## Open embedding file"
      ]
    },
    {
      "cell_type": "code",
      "execution_count": 74,
      "metadata": {
        "id": "L8A4aZOotEMQ"
      },
      "outputs": [],
      "source": [
        "proteins = []"
      ]
    },
    {
      "cell_type": "code",
      "execution_count": 75,
      "metadata": {
        "id": "eScyOlMFtGjH"
      },
      "outputs": [],
      "source": [
        "with h5py.File('thermophilic_embedding.h5', 'r') as f:\n",
        "    for new_identifier in f.keys():\n",
        "        proteins.append((new_identifier, np.array(f[new_identifier])))"
      ]
    },
    {
      "cell_type": "code",
      "execution_count": 76,
      "metadata": {
        "id": "abJp6wZvtUb2"
      },
      "outputs": [],
      "source": [
        "#proteins"
      ]
    },
    {
      "cell_type": "code",
      "execution_count": 77,
      "metadata": {
        "id": "zfNnO9qltX6v"
      },
      "outputs": [],
      "source": [
        "# Basic Protocol 3 — Step 5\n",
        "annotations = read_csv('MergedAnnotations1024.csv')"
      ]
    },
    {
      "cell_type": "code",
      "execution_count": 78,
      "metadata": {
        "colab": {
          "base_uri": "https://localhost:8080/",
          "height": 143
        },
        "id": "t36iDvOQti9m",
        "outputId": "1804b9da-1998-44b2-e7da-d4c06086f285"
      },
      "outputs": [
        {
          "output_type": "execute_result",
          "data": {
            "text/plain": [
              "    identifier  label    set\n",
              "0  G1PDH_AERPE      1  train\n",
              "1   PGMI_AERPE      1  train\n",
              "2  OFOB1_AERPE      1  train"
            ],
            "text/html": [
              "\n",
              "  <div id=\"df-b1d2428a-4c41-4bec-88d9-8b493489b26b\">\n",
              "    <div class=\"colab-df-container\">\n",
              "      <div>\n",
              "<style scoped>\n",
              "    .dataframe tbody tr th:only-of-type {\n",
              "        vertical-align: middle;\n",
              "    }\n",
              "\n",
              "    .dataframe tbody tr th {\n",
              "        vertical-align: top;\n",
              "    }\n",
              "\n",
              "    .dataframe thead th {\n",
              "        text-align: right;\n",
              "    }\n",
              "</style>\n",
              "<table border=\"1\" class=\"dataframe\">\n",
              "  <thead>\n",
              "    <tr style=\"text-align: right;\">\n",
              "      <th></th>\n",
              "      <th>identifier</th>\n",
              "      <th>label</th>\n",
              "      <th>set</th>\n",
              "    </tr>\n",
              "  </thead>\n",
              "  <tbody>\n",
              "    <tr>\n",
              "      <th>0</th>\n",
              "      <td>G1PDH_AERPE</td>\n",
              "      <td>1</td>\n",
              "      <td>train</td>\n",
              "    </tr>\n",
              "    <tr>\n",
              "      <th>1</th>\n",
              "      <td>PGMI_AERPE</td>\n",
              "      <td>1</td>\n",
              "      <td>train</td>\n",
              "    </tr>\n",
              "    <tr>\n",
              "      <th>2</th>\n",
              "      <td>OFOB1_AERPE</td>\n",
              "      <td>1</td>\n",
              "      <td>train</td>\n",
              "    </tr>\n",
              "  </tbody>\n",
              "</table>\n",
              "</div>\n",
              "      <button class=\"colab-df-convert\" onclick=\"convertToInteractive('df-b1d2428a-4c41-4bec-88d9-8b493489b26b')\"\n",
              "              title=\"Convert this dataframe to an interactive table.\"\n",
              "              style=\"display:none;\">\n",
              "        \n",
              "  <svg xmlns=\"http://www.w3.org/2000/svg\" height=\"24px\"viewBox=\"0 0 24 24\"\n",
              "       width=\"24px\">\n",
              "    <path d=\"M0 0h24v24H0V0z\" fill=\"none\"/>\n",
              "    <path d=\"M18.56 5.44l.94 2.06.94-2.06 2.06-.94-2.06-.94-.94-2.06-.94 2.06-2.06.94zm-11 1L8.5 8.5l.94-2.06 2.06-.94-2.06-.94L8.5 2.5l-.94 2.06-2.06.94zm10 10l.94 2.06.94-2.06 2.06-.94-2.06-.94-.94-2.06-.94 2.06-2.06.94z\"/><path d=\"M17.41 7.96l-1.37-1.37c-.4-.4-.92-.59-1.43-.59-.52 0-1.04.2-1.43.59L10.3 9.45l-7.72 7.72c-.78.78-.78 2.05 0 2.83L4 21.41c.39.39.9.59 1.41.59.51 0 1.02-.2 1.41-.59l7.78-7.78 2.81-2.81c.8-.78.8-2.07 0-2.86zM5.41 20L4 18.59l7.72-7.72 1.47 1.35L5.41 20z\"/>\n",
              "  </svg>\n",
              "      </button>\n",
              "      \n",
              "  <style>\n",
              "    .colab-df-container {\n",
              "      display:flex;\n",
              "      flex-wrap:wrap;\n",
              "      gap: 12px;\n",
              "    }\n",
              "\n",
              "    .colab-df-convert {\n",
              "      background-color: #E8F0FE;\n",
              "      border: none;\n",
              "      border-radius: 50%;\n",
              "      cursor: pointer;\n",
              "      display: none;\n",
              "      fill: #1967D2;\n",
              "      height: 32px;\n",
              "      padding: 0 0 0 0;\n",
              "      width: 32px;\n",
              "    }\n",
              "\n",
              "    .colab-df-convert:hover {\n",
              "      background-color: #E2EBFA;\n",
              "      box-shadow: 0px 1px 2px rgba(60, 64, 67, 0.3), 0px 1px 3px 1px rgba(60, 64, 67, 0.15);\n",
              "      fill: #174EA6;\n",
              "    }\n",
              "\n",
              "    [theme=dark] .colab-df-convert {\n",
              "      background-color: #3B4455;\n",
              "      fill: #D2E3FC;\n",
              "    }\n",
              "\n",
              "    [theme=dark] .colab-df-convert:hover {\n",
              "      background-color: #434B5C;\n",
              "      box-shadow: 0px 1px 3px 1px rgba(0, 0, 0, 0.15);\n",
              "      filter: drop-shadow(0px 1px 2px rgba(0, 0, 0, 0.3));\n",
              "      fill: #FFFFFF;\n",
              "    }\n",
              "  </style>\n",
              "\n",
              "      <script>\n",
              "        const buttonEl =\n",
              "          document.querySelector('#df-b1d2428a-4c41-4bec-88d9-8b493489b26b button.colab-df-convert');\n",
              "        buttonEl.style.display =\n",
              "          google.colab.kernel.accessAllowed ? 'block' : 'none';\n",
              "\n",
              "        async function convertToInteractive(key) {\n",
              "          const element = document.querySelector('#df-b1d2428a-4c41-4bec-88d9-8b493489b26b');\n",
              "          const dataTable =\n",
              "            await google.colab.kernel.invokeFunction('convertToInteractive',\n",
              "                                                     [key], {});\n",
              "          if (!dataTable) return;\n",
              "\n",
              "          const docLinkHtml = 'Like what you see? Visit the ' +\n",
              "            '<a target=\"_blank\" href=https://colab.research.google.com/notebooks/data_table.ipynb>data table notebook</a>'\n",
              "            + ' to learn more about interactive tables.';\n",
              "          element.innerHTML = '';\n",
              "          dataTable['output_type'] = 'display_data';\n",
              "          await google.colab.output.renderOutput(dataTable, element);\n",
              "          const docLink = document.createElement('div');\n",
              "          docLink.innerHTML = docLinkHtml;\n",
              "          element.appendChild(docLink);\n",
              "        }\n",
              "      </script>\n",
              "    </div>\n",
              "  </div>\n",
              "  "
            ]
          },
          "metadata": {},
          "execution_count": 78
        }
      ],
      "source": [
        "annotations[:3]"
      ]
    },
    {
      "cell_type": "code",
      "execution_count": 79,
      "metadata": {
        "id": "zdwva6fUtkxW"
      },
      "outputs": [],
      "source": [
        "# Basic Protocol 3 — Step 6\n",
        "train_set = annotations[annotations.set == \"train\"]\n",
        "test_set = annotations[annotations.set == \"test\"]"
      ]
    },
    {
      "cell_type": "code",
      "execution_count": 80,
      "metadata": {
        "colab": {
          "base_uri": "https://localhost:8080/"
        },
        "id": "AsPlLP3utmt0",
        "outputId": "9bf7c988-01a9-4340-9ef6-8ed95597a5e0"
      },
      "outputs": [
        {
          "output_type": "stream",
          "name": "stdout",
          "text": [
            "The train set contains 5090 samples, and we will test on 1278 samples.\n"
          ]
        }
      ],
      "source": [
        "print(f\"The train set contains {len(train_set)} samples, and we will test on {len(test_set)} samples.\")"
      ]
    },
    {
      "cell_type": "code",
      "execution_count": 81,
      "metadata": {
        "colab": {
          "base_uri": "https://localhost:8080/"
        },
        "id": "nN1PpTc3tw-o",
        "outputId": "4deebf83-e35f-4da4-c3d0-e63f07077275"
      },
      "outputs": [
        {
          "output_type": "stream",
          "name": "stdout",
          "text": [
            "5090\n",
            "5090\n"
          ]
        }
      ],
      "source": [
        "# Basic Protocol 3 — Step 7\n",
        "\n",
        "training_embeddings = list()\n",
        "training_identifiers = train_set.identifier.values\n",
        "training_labels = train_set.label.values\n",
        "print(len(training_identifiers))\n",
        "print(len(training_labels))"
      ]
    },
    {
      "cell_type": "code",
      "execution_count": 82,
      "metadata": {
        "colab": {
          "base_uri": "https://localhost:8080/"
        },
        "id": "aUcj3y3TfiKq",
        "outputId": "40c97cd6-1199-436e-c9c7-84ae117a0ae5"
      },
      "outputs": [
        {
          "output_type": "execute_result",
          "data": {
            "text/plain": [
              "array(['G1PDH_AERPE', 'PGMI_AERPE', 'OFOB1_AERPE', ..., 'SPRL_BACHD',\n",
              "       'MURD_BACHD', 'FADA_YERPE'], dtype=object)"
            ]
          },
          "metadata": {},
          "execution_count": 82
        }
      ],
      "source": [
        "train_set.identifier.values"
      ]
    },
    {
      "cell_type": "code",
      "execution_count": 83,
      "metadata": {
        "colab": {
          "base_uri": "https://localhost:8080/"
        },
        "id": "SfK4RZisuE63",
        "outputId": "99b043a9-9a9f-4b51-b752-75903f928779"
      },
      "outputs": [
        {
          "output_type": "stream",
          "name": "stdout",
          "text": [
            "1278\n",
            "1278\n"
          ]
        }
      ],
      "source": [
        "testing_embeddings = list()\n",
        "testing_identifiers = test_set.identifier.values\n",
        "testing_labels = test_set.label.values\n",
        "print(len(testing_identifiers))\n",
        "print(len(testing_labels))"
      ]
    },
    {
      "cell_type": "code",
      "execution_count": 84,
      "metadata": {
        "id": "yeo0RsDewH6e"
      },
      "outputs": [],
      "source": [
        "seq = dict(proteins)\n",
        "delete = list()"
      ]
    },
    {
      "cell_type": "code",
      "execution_count": 85,
      "metadata": {
        "id": "Kw7Gs-Ovu1gR"
      },
      "outputs": [],
      "source": [
        "for identifier in training_identifiers:\n",
        "        if identifier in seq:\n",
        "            embedding = seq[identifier]\n",
        "            training_embeddings.append(embedding)\n",
        "        else:\n",
        "          delete.append(identifier)"
      ]
    },
    {
      "cell_type": "code",
      "execution_count": 86,
      "metadata": {
        "id": "Hu95EwOVxceu"
      },
      "outputs": [],
      "source": [
        "for identifier in testing_identifiers:\n",
        "        if identifier in seq:\n",
        "            embedding = seq[identifier]\n",
        "            testing_embeddings.append(embedding)"
      ]
    },
    {
      "cell_type": "code",
      "execution_count": 87,
      "metadata": {
        "colab": {
          "base_uri": "https://localhost:8080/"
        },
        "id": "s4MLuHQj_uwv",
        "outputId": "ad259909-4f20-4a7f-cc1f-c9427b7e2750"
      },
      "outputs": [
        {
          "output_type": "execute_result",
          "data": {
            "text/plain": [
              "(array([], dtype=int64),)"
            ]
          },
          "metadata": {},
          "execution_count": 87
        }
      ],
      "source": [
        "np.where(training_identifiers=='CYSO_AERPE')"
      ]
    },
    {
      "cell_type": "code",
      "execution_count": 88,
      "metadata": {
        "id": "ZQEfhzAXAPwm"
      },
      "outputs": [],
      "source": [
        "#training_identifiers = np.delete(training_identifiers,0)\n",
        "#training_labels = np.delete(training_labels,0)"
      ]
    },
    {
      "cell_type": "code",
      "execution_count": 89,
      "metadata": {
        "id": "cq2HsFdtxkpE"
      },
      "outputs": [],
      "source": [
        "# A sanity check: make sure that the numbers are equal!\n",
        "assert(len(training_identifiers) == len(training_embeddings))\n",
        "assert(len(testing_identifiers) == len(testing_embeddings))"
      ]
    },
    {
      "cell_type": "code",
      "execution_count": 90,
      "metadata": {
        "colab": {
          "base_uri": "https://localhost:8080/"
        },
        "id": "53rhy2OK_XLY",
        "outputId": "0f38b38c-544b-46f0-e284-ad4a3fb12efb"
      },
      "outputs": [
        {
          "output_type": "execute_result",
          "data": {
            "text/plain": [
              "5090"
            ]
          },
          "metadata": {},
          "execution_count": 90
        }
      ],
      "source": [
        "len(training_embeddings)"
      ]
    },
    {
      "cell_type": "code",
      "execution_count": 91,
      "metadata": {
        "colab": {
          "base_uri": "https://localhost:8080/"
        },
        "id": "wechMxz8RnJK",
        "outputId": "c38136db-c3d5-4f2e-fd44-3ecbd407955a"
      },
      "outputs": [
        {
          "output_type": "execute_result",
          "data": {
            "text/plain": [
              "array(['G1PDH_AERPE', 'PGMI_AERPE', 'OFOB1_AERPE', ..., 'SPRL_BACHD',\n",
              "       'MURD_BACHD', 'FADA_YERPE'], dtype=object)"
            ]
          },
          "metadata": {},
          "execution_count": 91
        }
      ],
      "source": [
        "training_identifiers"
      ]
    },
    {
      "cell_type": "code",
      "execution_count": 92,
      "metadata": {
        "colab": {
          "base_uri": "https://localhost:8080/"
        },
        "id": "2-NdRoqfSYej",
        "outputId": "16136863-b3de-47ff-a14d-a9b3cc6efc10"
      },
      "outputs": [
        {
          "output_type": "execute_result",
          "data": {
            "text/plain": [
              "[]"
            ]
          },
          "metadata": {},
          "execution_count": 92
        }
      ],
      "source": [
        "delete"
      ]
    },
    {
      "cell_type": "markdown",
      "metadata": {
        "id": "bZOHJFqNvNsJ"
      },
      "source": [
        "## Training"
      ]
    },
    {
      "cell_type": "code",
      "execution_count": 93,
      "metadata": {
        "colab": {
          "base_uri": "https://localhost:8080/"
        },
        "id": "_RjStFxt_YIq",
        "outputId": "61fa88a4-68e7-438d-faf1-a904a35501b9"
      },
      "outputs": [
        {
          "output_type": "execute_result",
          "data": {
            "text/plain": [
              "(5090, 1024)"
            ]
          },
          "metadata": {},
          "execution_count": 93
        }
      ],
      "source": [
        "arr_train = np.array(training_embeddings)\n",
        "nsample, nx, ny = arr_train.shape\n",
        "train_dataset = arr_train.reshape((nsample, nx*ny))\n",
        "train_dataset.shape"
      ]
    },
    {
      "cell_type": "code",
      "execution_count": 94,
      "metadata": {
        "colab": {
          "base_uri": "https://localhost:8080/"
        },
        "id": "xwtSoASGAPK8",
        "outputId": "1a450cef-4568-4b65-e179-65f1f0d07dd6"
      },
      "outputs": [
        {
          "output_type": "execute_result",
          "data": {
            "text/plain": [
              "(1278, 1024)"
            ]
          },
          "metadata": {},
          "execution_count": 94
        }
      ],
      "source": [
        "arr_test = np.array(testing_embeddings)\n",
        "nsample, nx, ny = arr_test.shape\n",
        "test_dataset = arr_test.reshape((nsample, nx*ny))\n",
        "test_dataset.shape"
      ]
    },
    {
      "cell_type": "markdown",
      "metadata": {
        "id": "Zpez8nyOvPOF"
      },
      "source": [
        "### MLP with Grid Search"
      ]
    },
    {
      "cell_type": "code",
      "execution_count": 95,
      "metadata": {
        "id": "vug_DpuSylO-"
      },
      "outputs": [],
      "source": [
        "# Basic Protocol 3 — Step 8\n",
        "\n",
        "multilayerperceptron = MLPClassifier(solver='lbfgs', random_state=10, max_iter=1000)\n",
        "\n",
        "parameters = {\n",
        "    'hidden_layer_sizes': [(30,), (1024,),(20,15)],\n",
        "    'learning_rate_init': [0.001, 0.0001, 0.01],\n",
        "    'solver':['lbfgs', 'adam','sgd'],\n",
        "    'learning_rate': ['constant','adaptive'],\n",
        "}"
      ]
    },
    {
      "cell_type": "code",
      "execution_count": null,
      "metadata": {
        "colab": {
          "base_uri": "https://localhost:8080/"
        },
        "id": "qlth5o02yn-d",
        "outputId": "38fb2b5f-d10e-4dd0-8e98-59e7ab351357"
      },
      "outputs": [
        {
          "output_type": "stream",
          "name": "stderr",
          "text": [
            "/usr/local/lib/python3.7/dist-packages/sklearn/neural_network/_multilayer_perceptron.py:696: ConvergenceWarning:\n",
            "\n",
            "Stochastic Optimizer: Maximum iterations (1000) reached and the optimization hasn't converged yet.\n",
            "\n",
            "/usr/local/lib/python3.7/dist-packages/sklearn/neural_network/_multilayer_perceptron.py:696: ConvergenceWarning:\n",
            "\n",
            "Stochastic Optimizer: Maximum iterations (1000) reached and the optimization hasn't converged yet.\n",
            "\n",
            "/usr/local/lib/python3.7/dist-packages/sklearn/neural_network/_multilayer_perceptron.py:696: ConvergenceWarning:\n",
            "\n",
            "Stochastic Optimizer: Maximum iterations (1000) reached and the optimization hasn't converged yet.\n",
            "\n",
            "/usr/local/lib/python3.7/dist-packages/sklearn/neural_network/_multilayer_perceptron.py:696: ConvergenceWarning:\n",
            "\n",
            "Stochastic Optimizer: Maximum iterations (1000) reached and the optimization hasn't converged yet.\n",
            "\n",
            "/usr/local/lib/python3.7/dist-packages/sklearn/neural_network/_multilayer_perceptron.py:696: ConvergenceWarning:\n",
            "\n",
            "Stochastic Optimizer: Maximum iterations (1000) reached and the optimization hasn't converged yet.\n",
            "\n",
            "/usr/local/lib/python3.7/dist-packages/sklearn/neural_network/_multilayer_perceptron.py:696: ConvergenceWarning:\n",
            "\n",
            "Stochastic Optimizer: Maximum iterations (1000) reached and the optimization hasn't converged yet.\n",
            "\n",
            "/usr/local/lib/python3.7/dist-packages/sklearn/neural_network/_multilayer_perceptron.py:696: ConvergenceWarning:\n",
            "\n",
            "Stochastic Optimizer: Maximum iterations (1000) reached and the optimization hasn't converged yet.\n",
            "\n",
            "/usr/local/lib/python3.7/dist-packages/sklearn/neural_network/_multilayer_perceptron.py:696: ConvergenceWarning:\n",
            "\n",
            "Stochastic Optimizer: Maximum iterations (1000) reached and the optimization hasn't converged yet.\n",
            "\n"
          ]
        }
      ],
      "source": [
        "# Basic Protocol 3 — Step 9\n",
        "\n",
        "classifiers = GridSearchCV(multilayerperceptron, parameters, cv=3, scoring=\"accuracy\")\n",
        "history = classifiers.fit(train_dataset, training_labels)\n",
        "classifier = classifiers.best_estimator_"
      ]
    },
    {
      "cell_type": "code",
      "execution_count": null,
      "metadata": {
        "id": "FkLigimLWROf"
      },
      "outputs": [],
      "source": [
        "DataFrame(classifiers.cv_results_)"
      ]
    },
    {
      "cell_type": "code",
      "execution_count": null,
      "metadata": {
        "id": "6vFSrlejaAc5"
      },
      "outputs": [],
      "source": [
        "df =pd.DataFrame(classifiers.cv_results_)\n",
        "new_path = '/content/test.xls'\n",
        "writer = pd.ExcelWriter(new_path, engine='xlsxwriter')\n",
        "df.to_excel('/content/drive/MyDrive/SOM/MLPTMergedUnique.xlsx')"
      ]
    },
    {
      "cell_type": "code",
      "execution_count": null,
      "metadata": {
        "id": "oqx2I23Xo1GY"
      },
      "outputs": [],
      "source": [
        "plot.grid_search(classifiers.cv_results_, change= 'hidden_layer_sizes', kind='bar')"
      ]
    },
    {
      "cell_type": "code",
      "execution_count": null,
      "metadata": {
        "id": "CMv8_JC0WcSQ"
      },
      "outputs": [],
      "source": [
        "params = classifier.get_params()\n",
        "params"
      ]
    },
    {
      "cell_type": "code",
      "execution_count": null,
      "metadata": {
        "id": "o6XZ9vilAJoD"
      },
      "outputs": [],
      "source": [
        "# Basic Protocol 3 — Step 10\n",
        "\n",
        "predicted_testing_labels = classifier.predict(test_dataset)\n",
        "accuracy = accuracy_score(testing_labels, predicted_testing_labels)\n",
        "\n",
        "print(f\"Our model has an accuracy of {accuracy:.2}\")"
      ]
    },
    {
      "cell_type": "code",
      "source": [
        "from sklearn.metrics import f1_score, matthews_corrcoef, accuracy_score, balanced_accuracy_score\n",
        "import numpy as np\n",
        "        \n",
        "bootstrap_performances = list()\n",
        "performances = list()\n",
        "f1_performances = list()\n",
        "Y = np.array(testing_labels) # convert list of groundtruths to numpy\n",
        "Yhat = np.array(predicted_testing_labels) # same same for predictions\n",
        "n_samples = len(Y) # get number of samples \n",
        "n_bootstrap = 1000 # number of bootstrap iterations\n",
        "metric = matthews_corrcoef # the metric you want to compute\n",
        "for i in range(n_bootstrap): # for each bootstrap draw\n",
        "  subset = np.random.choice(n_samples, n_samples, replace=True) \n",
        "  # create a random subset of your predictions/targets with replacement (this line will only generate the indices for list elements and the line below will grab the random subset with replacement\n",
        "  bootstrap_performances.append( matthews_corrcoef(testing_labels[subset], predicted_testing_labels[subset]) )\n",
        "  performances.append(accuracy_score(testing_labels[subset], predicted_testing_labels[subset]))\n",
        "  f1_performances.append(f1_score(testing_labels[subset], predicted_testing_labels[subset]))\n",
        "std_dev = np.std(bootstrap_performances) # compute std deviation over the bootstrapped performances\n",
        "sd = np.std(performances)\n",
        "sd_f1 = np.std(f1_performances)\n",
        "#print(\"Standard error after 1k bootstrapping iterations: {:.5f}\".format(std_dev))|\n",
        "#print(performances)\n",
        "print(std_dev)\n",
        "print(sd)\n",
        "print(sd_f1)"
      ],
      "metadata": {
        "id": "nKTAlLQo0wPi"
      },
      "execution_count": null,
      "outputs": []
    },
    {
      "cell_type": "code",
      "execution_count": null,
      "metadata": {
        "id": "PS3MxVMkSRXK"
      },
      "outputs": [],
      "source": [
        "print(classification_report(testing_labels, predicted_testing_labels))"
      ]
    },
    {
      "cell_type": "code",
      "execution_count": null,
      "metadata": {
        "id": "FPZWq2Jdq-gP"
      },
      "outputs": [],
      "source": [
        "print(matthews_corrcoef(testing_labels, predicted_testing_labels))"
      ]
    },
    {
      "cell_type": "code",
      "execution_count": null,
      "metadata": {
        "id": "PeG8NDvGBeYM"
      },
      "outputs": [],
      "source": [
        "cv_results = DataFrame(classifiers.cv_results_)\n",
        "\n",
        "cv_results[['param_hidden_layer_sizes','split0_test_score', 'split1_test_score', 'split2_test_score']]"
      ]
    },
    {
      "cell_type": "code",
      "execution_count": null,
      "metadata": {
        "id": "ViDDElvGBnf6"
      },
      "outputs": [],
      "source": [
        "# Further metrics\n",
        "from sklearn.metrics import confusion_matrix\n",
        "\n",
        "# Data visualization\n",
        "import plotly.express as px"
      ]
    },
    {
      "cell_type": "code",
      "execution_count": null,
      "metadata": {
        "id": "aqKqqPfoBvZ7"
      },
      "outputs": [],
      "source": [
        "classes = np.unique(testing_labels)\n",
        "\n",
        "confusion_matrix_data = confusion_matrix(testing_labels, predicted_testing_labels, labels=classes)"
      ]
    },
    {
      "cell_type": "code",
      "execution_count": null,
      "metadata": {
        "id": "Z4XNKlCq0Bw-"
      },
      "outputs": [],
      "source": [
        "TP = confusion_matrix_data[1,1]\n",
        "TN = confusion_matrix_data[0,0]\n",
        "FP = confusion_matrix_data[0,1]\n",
        "FN = confusion_matrix_data[1,0]"
      ]
    },
    {
      "cell_type": "code",
      "execution_count": null,
      "metadata": {
        "id": "lLGAjv8Y0N9I"
      },
      "outputs": [],
      "source": [
        "sn = TP / float(TP + FN)\n",
        "print(sn)"
      ]
    },
    {
      "cell_type": "code",
      "execution_count": null,
      "metadata": {
        "id": "CpnlLabl0OMH"
      },
      "outputs": [],
      "source": [
        "sp = TN / float(TN + FP)\n",
        "print(sp)"
      ]
    },
    {
      "cell_type": "code",
      "execution_count": null,
      "metadata": {
        "id": "bRrRZagZBvdT"
      },
      "outputs": [],
      "source": [
        "confusion_matrix_figure = px.imshow(\n",
        "    confusion_matrix_data,\n",
        "    labels=dict(x=\"True label\", y=\"Predicted label\", color=\"# of samples\"),\n",
        "    x=classes,\n",
        "    y=classes,\n",
        "    color_continuous_scale='Gray_r'\n",
        ")\n",
        "confusion_matrix_figure.show()"
      ]
    },
    {
      "cell_type": "markdown",
      "metadata": {
        "id": "8eEXVSpeI8Un"
      },
      "source": [
        "### LR"
      ]
    },
    {
      "cell_type": "code",
      "execution_count": 237,
      "metadata": {
        "id": "n6VLSupfI-mW"
      },
      "outputs": [],
      "source": [
        "from sklearn.linear_model import LogisticRegression\n",
        "from sklearn.model_selection import cross_val_score\n",
        "from sklearn.model_selection import cross_validate\n",
        "from sklearn.metrics import confusion_matrix"
      ]
    },
    {
      "cell_type": "code",
      "execution_count": 238,
      "metadata": {
        "colab": {
          "base_uri": "https://localhost:8080/"
        },
        "id": "UVSgV_nzJAGf",
        "outputId": "8fbb9985-1883-4643-c326-7913b0f1313e"
      },
      "outputs": [
        {
          "output_type": "execute_result",
          "data": {
            "text/plain": [
              "0.8709677419354839"
            ]
          },
          "metadata": {},
          "execution_count": 238
        }
      ],
      "source": [
        "lr = LogisticRegression()\n",
        "lr_history = lr.fit(train_dataset, training_labels)\n",
        "lr.score(test_dataset,testing_labels)"
      ]
    },
    {
      "cell_type": "code",
      "execution_count": 239,
      "metadata": {
        "colab": {
          "base_uri": "https://localhost:8080/"
        },
        "id": "pcPV58K3OI9i",
        "outputId": "48407786-804b-4aec-f027-f4f54a4b0d9f"
      },
      "outputs": [
        {
          "output_type": "execute_result",
          "data": {
            "text/plain": [
              "array([0.90243902, 0.99069767, 0.9953271 , 0.98360656, 0.95942721])"
            ]
          },
          "metadata": {},
          "execution_count": 239
        }
      ],
      "source": [
        "scores = cross_val_score(lr, train_dataset, training_labels, scoring= 'f1', cv=5)\n",
        "scores  "
      ]
    },
    {
      "cell_type": "code",
      "execution_count": 240,
      "metadata": {
        "colab": {
          "base_uri": "https://localhost:8080/"
        },
        "id": "o6-zdbj-U8ij",
        "outputId": "0c999008-f191-4be8-aee7-efc07b143b9c"
      },
      "outputs": [
        {
          "output_type": "execute_result",
          "data": {
            "text/plain": [
              "{'fit_time': array([0.04694891, 0.05183554, 0.05167246, 0.0540185 , 0.05571127]),\n",
              " 'score_time': array([0.00991344, 0.01068926, 0.00990677, 0.01678896, 0.01011682]),\n",
              " 'test_accuracy': array([0.90990991, 0.99099099, 0.99548533, 0.98419865, 0.96162528]),\n",
              " 'test_precision': array([0.95360825, 0.9953271 , 1.        , 0.99056604, 0.99014778]),\n",
              " 'test_recall': array([0.85648148, 0.98611111, 0.99069767, 0.97674419, 0.93055556]),\n",
              " 'test_f1': array([0.90243902, 0.99069767, 0.9953271 , 0.98360656, 0.95942721])}"
            ]
          },
          "metadata": {},
          "execution_count": 240
        }
      ],
      "source": [
        "scores = cross_validate(lr, train_dataset, training_labels, scoring= ['accuracy', 'precision', 'recall','f1'], cv=5)\n",
        "scores "
      ]
    },
    {
      "cell_type": "code",
      "execution_count": 241,
      "metadata": {
        "colab": {
          "base_uri": "https://localhost:8080/"
        },
        "id": "sjQLJMtyJNtD",
        "outputId": "a4c8766f-57f4-460c-a64d-36cbf10b62bb"
      },
      "outputs": [
        {
          "output_type": "stream",
          "name": "stdout",
          "text": [
            "Our model has an accuracy of 0.87\n"
          ]
        }
      ],
      "source": [
        "predicted_testing_labels = lr.predict(test_dataset)\n",
        "accuracy = accuracy_score(testing_labels, predicted_testing_labels)\n",
        "\n",
        "print(f\"Our model has an accuracy of {accuracy:.2}\")"
      ]
    },
    {
      "cell_type": "code",
      "source": [
        "from sklearn.metrics import f1_score, matthews_corrcoef, accuracy_score, balanced_accuracy_score\n",
        "import numpy as np\n",
        "        \n",
        "bootstrap_performances = list()\n",
        "performances = list()\n",
        "f1_performances = list()\n",
        "Y = np.array(testing_labels) # convert list of groundtruths to numpy\n",
        "Yhat = np.array(predicted_testing_labels) # same same for predictions\n",
        "n_samples = len(Y) # get number of samples \n",
        "n_bootstrap = 1000 # number of bootstrap iterations\n",
        "metric = matthews_corrcoef # the metric you want to compute\n",
        "for i in range(n_bootstrap): # for each bootstrap draw\n",
        "  subset = np.random.choice(n_samples, n_samples, replace=True) \n",
        "  # create a random subset of your predictions/targets with replacement (this line will only generate the indices for list elements and the line below will grab the random subset with replacement\n",
        "  bootstrap_performances.append( matthews_corrcoef(testing_labels[subset], predicted_testing_labels[subset]) )\n",
        "  performances.append(accuracy_score(testing_labels[subset], predicted_testing_labels[subset]))\n",
        "  f1_performances.append(f1_score(testing_labels[subset], predicted_testing_labels[subset]))\n",
        "std_dev = np.std(bootstrap_performances) # compute std deviation over the bootstrapped performances\n",
        "sd = np.std(performances)\n",
        "sd_f1 = np.std(f1_performances)\n",
        "#print(\"Standard error after 1k bootstrapping iterations: {:.5f}\".format(std_dev))|\n",
        "#print(performances)\n",
        "print(std_dev)\n",
        "print(sd)\n",
        "print(sd_f1)"
      ],
      "metadata": {
        "id": "8RigbeTmrl7g",
        "outputId": "101b845e-ad03-4ebd-a54b-2395012669b0",
        "colab": {
          "base_uri": "https://localhost:8080/"
        }
      },
      "execution_count": 242,
      "outputs": [
        {
          "output_type": "stream",
          "name": "stdout",
          "text": [
            "0.12167219088995515\n",
            "0.05862095387393939\n",
            "0.07960935618666065\n"
          ]
        }
      ]
    },
    {
      "cell_type": "code",
      "execution_count": 243,
      "metadata": {
        "colab": {
          "base_uri": "https://localhost:8080/"
        },
        "id": "uxjhmdcwJXsD",
        "outputId": "62b3b571-ffaf-4bbe-b0bf-4321d204b6b0"
      },
      "outputs": [
        {
          "output_type": "stream",
          "name": "stdout",
          "text": [
            "              precision    recall  f1-score   support\n",
            "\n",
            "           0       0.89      0.89      0.89        18\n",
            "           1       0.85      0.85      0.85        13\n",
            "\n",
            "    accuracy                           0.87        31\n",
            "   macro avg       0.87      0.87      0.87        31\n",
            "weighted avg       0.87      0.87      0.87        31\n",
            "\n"
          ]
        }
      ],
      "source": [
        "print(classification_report(testing_labels, predicted_testing_labels))"
      ]
    },
    {
      "cell_type": "code",
      "execution_count": 244,
      "metadata": {
        "colab": {
          "base_uri": "https://localhost:8080/"
        },
        "id": "WOSEN2VarFpY",
        "outputId": "07c9c0a9-5493-4326-db5d-2cd70be25581"
      },
      "outputs": [
        {
          "output_type": "stream",
          "name": "stdout",
          "text": [
            "0.7350427350427351\n"
          ]
        }
      ],
      "source": [
        "print(matthews_corrcoef(testing_labels, predicted_testing_labels))"
      ]
    },
    {
      "cell_type": "code",
      "execution_count": 245,
      "metadata": {
        "id": "BPUQwR-eKR38"
      },
      "outputs": [],
      "source": [
        "classes = np.unique(testing_labels)\n",
        "\n",
        "confusion_matrix_data = confusion_matrix(testing_labels, predicted_testing_labels, labels=classes)\n"
      ]
    },
    {
      "cell_type": "code",
      "execution_count": 246,
      "metadata": {
        "id": "zKcFQmFG1Ikk"
      },
      "outputs": [],
      "source": [
        "TP = confusion_matrix_data[1,1]\n",
        "TN = confusion_matrix_data[0,0]\n",
        "FP = confusion_matrix_data[0,1]\n",
        "FN = confusion_matrix_data[1,0]"
      ]
    },
    {
      "cell_type": "code",
      "execution_count": 247,
      "metadata": {
        "colab": {
          "base_uri": "https://localhost:8080/"
        },
        "id": "If-wEyne1Ja0",
        "outputId": "0245bdfa-52fc-4f7f-a052-cec38dca63ea"
      },
      "outputs": [
        {
          "output_type": "stream",
          "name": "stdout",
          "text": [
            "0.8461538461538461\n",
            "0.8888888888888888\n"
          ]
        }
      ],
      "source": [
        "sn = TP / float(TP + FN)\n",
        "print(sn)\n",
        "sp = TN / float(TN + FP)\n",
        "print(sp)"
      ]
    },
    {
      "cell_type": "code",
      "execution_count": 248,
      "metadata": {
        "colab": {
          "base_uri": "https://localhost:8080/",
          "height": 542
        },
        "id": "6fENJMUe1EGJ",
        "outputId": "2a82d285-45eb-4065-90ea-3aa767ce7ecf"
      },
      "outputs": [
        {
          "output_type": "display_data",
          "data": {
            "text/html": [
              "<html>\n",
              "<head><meta charset=\"utf-8\" /></head>\n",
              "<body>\n",
              "    <div>            <script src=\"https://cdnjs.cloudflare.com/ajax/libs/mathjax/2.7.5/MathJax.js?config=TeX-AMS-MML_SVG\"></script><script type=\"text/javascript\">if (window.MathJax) {MathJax.Hub.Config({SVG: {font: \"STIX-Web\"}});}</script>                <script type=\"text/javascript\">window.PlotlyConfig = {MathJaxConfig: 'local'};</script>\n",
              "        <script src=\"https://cdn.plot.ly/plotly-2.8.3.min.js\"></script>                <div id=\"99200952-18aa-4813-9a67-d3f9b9e5ef8f\" class=\"plotly-graph-div\" style=\"height:525px; width:100%;\"></div>            <script type=\"text/javascript\">                                    window.PLOTLYENV=window.PLOTLYENV || {};                                    if (document.getElementById(\"99200952-18aa-4813-9a67-d3f9b9e5ef8f\")) {                    Plotly.newPlot(                        \"99200952-18aa-4813-9a67-d3f9b9e5ef8f\",                        [{\"coloraxis\":\"coloraxis\",\"name\":\"0\",\"x\":[0,1],\"y\":[0,1],\"z\":[[16,2],[2,11]],\"type\":\"heatmap\",\"xaxis\":\"x\",\"yaxis\":\"y\",\"hovertemplate\":\"True label: %{x}<br>Predicted label: %{y}<br># of samples: %{z}<extra></extra>\"}],                        {\"template\":{\"data\":{\"bar\":[{\"error_x\":{\"color\":\"#2a3f5f\"},\"error_y\":{\"color\":\"#2a3f5f\"},\"marker\":{\"line\":{\"color\":\"#E5ECF6\",\"width\":0.5},\"pattern\":{\"fillmode\":\"overlay\",\"size\":10,\"solidity\":0.2}},\"type\":\"bar\"}],\"barpolar\":[{\"marker\":{\"line\":{\"color\":\"#E5ECF6\",\"width\":0.5},\"pattern\":{\"fillmode\":\"overlay\",\"size\":10,\"solidity\":0.2}},\"type\":\"barpolar\"}],\"carpet\":[{\"aaxis\":{\"endlinecolor\":\"#2a3f5f\",\"gridcolor\":\"white\",\"linecolor\":\"white\",\"minorgridcolor\":\"white\",\"startlinecolor\":\"#2a3f5f\"},\"baxis\":{\"endlinecolor\":\"#2a3f5f\",\"gridcolor\":\"white\",\"linecolor\":\"white\",\"minorgridcolor\":\"white\",\"startlinecolor\":\"#2a3f5f\"},\"type\":\"carpet\"}],\"choropleth\":[{\"colorbar\":{\"outlinewidth\":0,\"ticks\":\"\"},\"type\":\"choropleth\"}],\"contour\":[{\"colorbar\":{\"outlinewidth\":0,\"ticks\":\"\"},\"colorscale\":[[0.0,\"#0d0887\"],[0.1111111111111111,\"#46039f\"],[0.2222222222222222,\"#7201a8\"],[0.3333333333333333,\"#9c179e\"],[0.4444444444444444,\"#bd3786\"],[0.5555555555555556,\"#d8576b\"],[0.6666666666666666,\"#ed7953\"],[0.7777777777777778,\"#fb9f3a\"],[0.8888888888888888,\"#fdca26\"],[1.0,\"#f0f921\"]],\"type\":\"contour\"}],\"contourcarpet\":[{\"colorbar\":{\"outlinewidth\":0,\"ticks\":\"\"},\"type\":\"contourcarpet\"}],\"heatmap\":[{\"colorbar\":{\"outlinewidth\":0,\"ticks\":\"\"},\"colorscale\":[[0.0,\"#0d0887\"],[0.1111111111111111,\"#46039f\"],[0.2222222222222222,\"#7201a8\"],[0.3333333333333333,\"#9c179e\"],[0.4444444444444444,\"#bd3786\"],[0.5555555555555556,\"#d8576b\"],[0.6666666666666666,\"#ed7953\"],[0.7777777777777778,\"#fb9f3a\"],[0.8888888888888888,\"#fdca26\"],[1.0,\"#f0f921\"]],\"type\":\"heatmap\"}],\"heatmapgl\":[{\"colorbar\":{\"outlinewidth\":0,\"ticks\":\"\"},\"colorscale\":[[0.0,\"#0d0887\"],[0.1111111111111111,\"#46039f\"],[0.2222222222222222,\"#7201a8\"],[0.3333333333333333,\"#9c179e\"],[0.4444444444444444,\"#bd3786\"],[0.5555555555555556,\"#d8576b\"],[0.6666666666666666,\"#ed7953\"],[0.7777777777777778,\"#fb9f3a\"],[0.8888888888888888,\"#fdca26\"],[1.0,\"#f0f921\"]],\"type\":\"heatmapgl\"}],\"histogram\":[{\"marker\":{\"pattern\":{\"fillmode\":\"overlay\",\"size\":10,\"solidity\":0.2}},\"type\":\"histogram\"}],\"histogram2d\":[{\"colorbar\":{\"outlinewidth\":0,\"ticks\":\"\"},\"colorscale\":[[0.0,\"#0d0887\"],[0.1111111111111111,\"#46039f\"],[0.2222222222222222,\"#7201a8\"],[0.3333333333333333,\"#9c179e\"],[0.4444444444444444,\"#bd3786\"],[0.5555555555555556,\"#d8576b\"],[0.6666666666666666,\"#ed7953\"],[0.7777777777777778,\"#fb9f3a\"],[0.8888888888888888,\"#fdca26\"],[1.0,\"#f0f921\"]],\"type\":\"histogram2d\"}],\"histogram2dcontour\":[{\"colorbar\":{\"outlinewidth\":0,\"ticks\":\"\"},\"colorscale\":[[0.0,\"#0d0887\"],[0.1111111111111111,\"#46039f\"],[0.2222222222222222,\"#7201a8\"],[0.3333333333333333,\"#9c179e\"],[0.4444444444444444,\"#bd3786\"],[0.5555555555555556,\"#d8576b\"],[0.6666666666666666,\"#ed7953\"],[0.7777777777777778,\"#fb9f3a\"],[0.8888888888888888,\"#fdca26\"],[1.0,\"#f0f921\"]],\"type\":\"histogram2dcontour\"}],\"mesh3d\":[{\"colorbar\":{\"outlinewidth\":0,\"ticks\":\"\"},\"type\":\"mesh3d\"}],\"parcoords\":[{\"line\":{\"colorbar\":{\"outlinewidth\":0,\"ticks\":\"\"}},\"type\":\"parcoords\"}],\"pie\":[{\"automargin\":true,\"type\":\"pie\"}],\"scatter\":[{\"marker\":{\"colorbar\":{\"outlinewidth\":0,\"ticks\":\"\"}},\"type\":\"scatter\"}],\"scatter3d\":[{\"line\":{\"colorbar\":{\"outlinewidth\":0,\"ticks\":\"\"}},\"marker\":{\"colorbar\":{\"outlinewidth\":0,\"ticks\":\"\"}},\"type\":\"scatter3d\"}],\"scattercarpet\":[{\"marker\":{\"colorbar\":{\"outlinewidth\":0,\"ticks\":\"\"}},\"type\":\"scattercarpet\"}],\"scattergeo\":[{\"marker\":{\"colorbar\":{\"outlinewidth\":0,\"ticks\":\"\"}},\"type\":\"scattergeo\"}],\"scattergl\":[{\"marker\":{\"colorbar\":{\"outlinewidth\":0,\"ticks\":\"\"}},\"type\":\"scattergl\"}],\"scattermapbox\":[{\"marker\":{\"colorbar\":{\"outlinewidth\":0,\"ticks\":\"\"}},\"type\":\"scattermapbox\"}],\"scatterpolar\":[{\"marker\":{\"colorbar\":{\"outlinewidth\":0,\"ticks\":\"\"}},\"type\":\"scatterpolar\"}],\"scatterpolargl\":[{\"marker\":{\"colorbar\":{\"outlinewidth\":0,\"ticks\":\"\"}},\"type\":\"scatterpolargl\"}],\"scatterternary\":[{\"marker\":{\"colorbar\":{\"outlinewidth\":0,\"ticks\":\"\"}},\"type\":\"scatterternary\"}],\"surface\":[{\"colorbar\":{\"outlinewidth\":0,\"ticks\":\"\"},\"colorscale\":[[0.0,\"#0d0887\"],[0.1111111111111111,\"#46039f\"],[0.2222222222222222,\"#7201a8\"],[0.3333333333333333,\"#9c179e\"],[0.4444444444444444,\"#bd3786\"],[0.5555555555555556,\"#d8576b\"],[0.6666666666666666,\"#ed7953\"],[0.7777777777777778,\"#fb9f3a\"],[0.8888888888888888,\"#fdca26\"],[1.0,\"#f0f921\"]],\"type\":\"surface\"}],\"table\":[{\"cells\":{\"fill\":{\"color\":\"#EBF0F8\"},\"line\":{\"color\":\"white\"}},\"header\":{\"fill\":{\"color\":\"#C8D4E3\"},\"line\":{\"color\":\"white\"}},\"type\":\"table\"}]},\"layout\":{\"annotationdefaults\":{\"arrowcolor\":\"#2a3f5f\",\"arrowhead\":0,\"arrowwidth\":1},\"autotypenumbers\":\"strict\",\"coloraxis\":{\"colorbar\":{\"outlinewidth\":0,\"ticks\":\"\"}},\"colorscale\":{\"diverging\":[[0,\"#8e0152\"],[0.1,\"#c51b7d\"],[0.2,\"#de77ae\"],[0.3,\"#f1b6da\"],[0.4,\"#fde0ef\"],[0.5,\"#f7f7f7\"],[0.6,\"#e6f5d0\"],[0.7,\"#b8e186\"],[0.8,\"#7fbc41\"],[0.9,\"#4d9221\"],[1,\"#276419\"]],\"sequential\":[[0.0,\"#0d0887\"],[0.1111111111111111,\"#46039f\"],[0.2222222222222222,\"#7201a8\"],[0.3333333333333333,\"#9c179e\"],[0.4444444444444444,\"#bd3786\"],[0.5555555555555556,\"#d8576b\"],[0.6666666666666666,\"#ed7953\"],[0.7777777777777778,\"#fb9f3a\"],[0.8888888888888888,\"#fdca26\"],[1.0,\"#f0f921\"]],\"sequentialminus\":[[0.0,\"#0d0887\"],[0.1111111111111111,\"#46039f\"],[0.2222222222222222,\"#7201a8\"],[0.3333333333333333,\"#9c179e\"],[0.4444444444444444,\"#bd3786\"],[0.5555555555555556,\"#d8576b\"],[0.6666666666666666,\"#ed7953\"],[0.7777777777777778,\"#fb9f3a\"],[0.8888888888888888,\"#fdca26\"],[1.0,\"#f0f921\"]]},\"colorway\":[\"#636efa\",\"#EF553B\",\"#00cc96\",\"#ab63fa\",\"#FFA15A\",\"#19d3f3\",\"#FF6692\",\"#B6E880\",\"#FF97FF\",\"#FECB52\"],\"font\":{\"color\":\"#2a3f5f\"},\"geo\":{\"bgcolor\":\"white\",\"lakecolor\":\"white\",\"landcolor\":\"#E5ECF6\",\"showlakes\":true,\"showland\":true,\"subunitcolor\":\"white\"},\"hoverlabel\":{\"align\":\"left\"},\"hovermode\":\"closest\",\"mapbox\":{\"style\":\"light\"},\"paper_bgcolor\":\"white\",\"plot_bgcolor\":\"#E5ECF6\",\"polar\":{\"angularaxis\":{\"gridcolor\":\"white\",\"linecolor\":\"white\",\"ticks\":\"\"},\"bgcolor\":\"#E5ECF6\",\"radialaxis\":{\"gridcolor\":\"white\",\"linecolor\":\"white\",\"ticks\":\"\"}},\"scene\":{\"xaxis\":{\"backgroundcolor\":\"#E5ECF6\",\"gridcolor\":\"white\",\"gridwidth\":2,\"linecolor\":\"white\",\"showbackground\":true,\"ticks\":\"\",\"zerolinecolor\":\"white\"},\"yaxis\":{\"backgroundcolor\":\"#E5ECF6\",\"gridcolor\":\"white\",\"gridwidth\":2,\"linecolor\":\"white\",\"showbackground\":true,\"ticks\":\"\",\"zerolinecolor\":\"white\"},\"zaxis\":{\"backgroundcolor\":\"#E5ECF6\",\"gridcolor\":\"white\",\"gridwidth\":2,\"linecolor\":\"white\",\"showbackground\":true,\"ticks\":\"\",\"zerolinecolor\":\"white\"}},\"shapedefaults\":{\"line\":{\"color\":\"#2a3f5f\"}},\"ternary\":{\"aaxis\":{\"gridcolor\":\"white\",\"linecolor\":\"white\",\"ticks\":\"\"},\"baxis\":{\"gridcolor\":\"white\",\"linecolor\":\"white\",\"ticks\":\"\"},\"bgcolor\":\"#E5ECF6\",\"caxis\":{\"gridcolor\":\"white\",\"linecolor\":\"white\",\"ticks\":\"\"}},\"title\":{\"x\":0.05},\"xaxis\":{\"automargin\":true,\"gridcolor\":\"white\",\"linecolor\":\"white\",\"ticks\":\"\",\"title\":{\"standoff\":15},\"zerolinecolor\":\"white\",\"zerolinewidth\":2},\"yaxis\":{\"automargin\":true,\"gridcolor\":\"white\",\"linecolor\":\"white\",\"ticks\":\"\",\"title\":{\"standoff\":15},\"zerolinecolor\":\"white\",\"zerolinewidth\":2}}},\"xaxis\":{\"anchor\":\"y\",\"domain\":[0.0,1.0],\"scaleanchor\":\"y\",\"constrain\":\"domain\",\"title\":{\"text\":\"True label\"}},\"yaxis\":{\"anchor\":\"x\",\"domain\":[0.0,1.0],\"autorange\":\"reversed\",\"constrain\":\"domain\",\"title\":{\"text\":\"Predicted label\"}},\"coloraxis\":{\"colorbar\":{\"title\":{\"text\":\"# of samples\"}},\"colorscale\":[[0.0,\"rgb(254, 254, 253)\"],[0.09090909090909091,\"rgb(224, 224, 223)\"],[0.18181818181818182,\"rgb(197, 197, 195)\"],[0.2727272727272727,\"rgb(171, 171, 170)\"],[0.36363636363636365,\"rgb(146, 146, 145)\"],[0.45454545454545453,\"rgb(124, 123, 122)\"],[0.5454545454545454,\"rgb(102, 101, 101)\"],[0.6363636363636364,\"rgb(81, 80, 80)\"],[0.7272727272727273,\"rgb(59, 59, 59)\"],[0.8181818181818182,\"rgb(38, 38, 38)\"],[0.9090909090909091,\"rgb(16, 16, 16)\"],[1.0,\"rgb(0, 0, 0)\"]]},\"margin\":{\"t\":60}},                        {\"responsive\": true}                    ).then(function(){\n",
              "                            \n",
              "var gd = document.getElementById('99200952-18aa-4813-9a67-d3f9b9e5ef8f');\n",
              "var x = new MutationObserver(function (mutations, observer) {{\n",
              "        var display = window.getComputedStyle(gd).display;\n",
              "        if (!display || display === 'none') {{\n",
              "            console.log([gd, 'removed!']);\n",
              "            Plotly.purge(gd);\n",
              "            observer.disconnect();\n",
              "        }}\n",
              "}});\n",
              "\n",
              "// Listen for the removal of the full notebook cells\n",
              "var notebookContainer = gd.closest('#notebook-container');\n",
              "if (notebookContainer) {{\n",
              "    x.observe(notebookContainer, {childList: true});\n",
              "}}\n",
              "\n",
              "// Listen for the clearing of the current output cell\n",
              "var outputEl = gd.closest('.output');\n",
              "if (outputEl) {{\n",
              "    x.observe(outputEl, {childList: true});\n",
              "}}\n",
              "\n",
              "                        })                };                            </script>        </div>\n",
              "</body>\n",
              "</html>"
            ]
          },
          "metadata": {}
        }
      ],
      "source": [
        "confusion_matrix_figure = px.imshow(\n",
        "    confusion_matrix_data,\n",
        "    labels=dict(x=\"True label\", y=\"Predicted label\", color=\"# of samples\"),\n",
        "    x=classes,\n",
        "    y=classes,\n",
        "    color_continuous_scale='Gray_r'\n",
        ")\n",
        "confusion_matrix_figure.show()"
      ]
    },
    {
      "cell_type": "code",
      "execution_count": 249,
      "metadata": {
        "colab": {
          "base_uri": "https://localhost:8080/"
        },
        "id": "XwjJoJZiOqqC",
        "outputId": "c12a2966-f3bd-4210-bca3-5081fca8112b"
      },
      "outputs": [
        {
          "output_type": "stream",
          "name": "stdout",
          "text": [
            "(1, 1024)\n",
            "[[ 0.51097512  0.29052844  0.60518619 ...  0.54199794  0.67045527\n",
            "  -0.40212728]]\n",
            "1.3851175769996082\n",
            "-1.3311573390512756\n"
          ]
        }
      ],
      "source": [
        "#lr.save_weights('/result/LR.h5')\n",
        "print(lr.coef_.shape)\n",
        "lr_weights = lr.coef_\n",
        "print(lr_weights)\n",
        "print(np.max(lr_weights))\n",
        "print(np.min(lr_weights))"
      ]
    },
    {
      "cell_type": "markdown",
      "metadata": {
        "id": "UC6sZ0D_kgZj"
      },
      "source": [
        "### CNN with GridSearch"
      ]
    },
    {
      "cell_type": "code",
      "execution_count": 28,
      "metadata": {
        "id": "8S7uiM5ykoYz"
      },
      "outputs": [],
      "source": [
        "import tensorflow as tf\n",
        "from keras.models import Model, Sequential\n",
        "from keras.layers import Input, Dense, Dropout, Activation\n",
        "from keras.callbacks import TensorBoard, ModelCheckpoint, EarlyStopping, CSVLogger\n",
        "from keras.wrappers.scikit_learn import KerasClassifier"
      ]
    },
    {
      "cell_type": "code",
      "execution_count": 29,
      "metadata": {
        "id": "GycVI1SWkoY0"
      },
      "outputs": [],
      "source": [
        "from keras.layers.convolutional import Conv1D\n",
        "from keras.layers.convolutional import MaxPooling1D\n",
        "from keras.layers import Embedding\n",
        "from keras.preprocessing import sequence\n",
        "from keras.layers import Dense\n",
        "from keras.layers import Flatten\n",
        "from keras.utils import to_categorical\n",
        "from keras.preprocessing.image import ImageDataGenerator\n",
        "from time import time"
      ]
    },
    {
      "cell_type": "code",
      "execution_count": 30,
      "metadata": {
        "id": "g2wBaT28koY0"
      },
      "outputs": [],
      "source": [
        "X_train, X_test= train_dataset, test_dataset\n",
        "y_train, y_test = training_labels, testing_labels"
      ]
    },
    {
      "cell_type": "code",
      "execution_count": 31,
      "metadata": {
        "id": "jJcrkuiokoY0"
      },
      "outputs": [],
      "source": [
        "Y_train = np.reshape(y_train,(len(y_train),1)).astype(int)\n",
        "Y_test = np.reshape(y_test,(len(y_test),1)).astype(int)"
      ]
    },
    {
      "cell_type": "code",
      "execution_count": 32,
      "metadata": {
        "id": "jHoLG0YFkoY0"
      },
      "outputs": [],
      "source": [
        "n_timesteps, n_features, n_outputs =train_dataset.shape[0], train_dataset.shape[1], Y_train.shape[1]"
      ]
    },
    {
      "cell_type": "code",
      "execution_count": 33,
      "metadata": {
        "id": "cpfyojPuYKtg"
      },
      "outputs": [],
      "source": [
        "n_epochs = 30 # 30 \n",
        "n_epochs_cv = 10 # 10  # reduce number of epochs for cross validation for performance reason\n",
        "\n",
        "n_cv = 3\n",
        "validation_ratio = 0.10"
      ]
    },
    {
      "cell_type": "code",
      "execution_count": 34,
      "metadata": {
        "id": "lavUwJEZPC9T"
      },
      "outputs": [],
      "source": [
        "def create_cnn_model(pool_type='max', conv_activation='sigmoid', optimizer='adam', dropout_rate=0.10):\n",
        "    # create model\n",
        "    model = Sequential()\n",
        "    \n",
        "    # first layer: convolution\n",
        "    #model.add(Conv2D(16, kernel_size=(5, 5), activation='relu', input_shape=(28, 28, 1))) \n",
        "    model.add(Conv1D(filters=128, kernel_size=3, activation='relu',input_shape=(n_features,1)))\n",
        "    # second series of layers: convolution, pooling, and dropout\n",
        "    model.add(Conv1D(32, kernel_size=3, activation=conv_activation))  \n",
        "    if pool_type == 'max':\n",
        "        model.add(MaxPooling1D(pool_size=2))\n",
        "    if pool_type == 'average':\n",
        "        model.add(AveragePooling1D(pool_size=2))\n",
        "    if dropout_rate != 0:\n",
        "        model.add(Dropout(rate=dropout_rate))     \n",
        "    \n",
        "    # third series of layers: convolution, pooling, and dropout    \n",
        "    model.add(Conv1D(64, kernel_size=3, activation=conv_activation))   # 32   \n",
        "    if pool_type == 'max':\n",
        "        model.add(MaxPooling1D(pool_size=2))\n",
        "    if pool_type == 'average':\n",
        "        model.add(AveragePooling1D(pool_size=2))\n",
        "    if dropout_rate != 0:\n",
        "        model.add(Dropout(rate=dropout_rate))     \n",
        "      \n",
        "    # fourth series\n",
        "    model.add(Flatten())         \n",
        "    model.add(Dense(64, activation='sigmoid')) # 64\n",
        "    # add a dropout layer if rate is not null    \n",
        "    if dropout_rate != 0:\n",
        "        model.add(Dropout(rate=dropout_rate)) \n",
        "        \n",
        "    model.add(Dense(1, activation='sigmoid'))\n",
        "    \n",
        "    # Compile model\n",
        "    model.compile( \n",
        "        optimizer=optimizer,\n",
        "        loss='binary_crossentropy',\n",
        "        metrics=['accuracy'],\n",
        "        )    \n",
        "    return model"
      ]
    },
    {
      "cell_type": "code",
      "execution_count": 35,
      "metadata": {
        "id": "VLA3JilNT1UC"
      },
      "outputs": [],
      "source": [
        "cnn = create_cnn_model()"
      ]
    },
    {
      "cell_type": "code",
      "execution_count": 36,
      "metadata": {
        "id": "Ufu-Fy93T57n"
      },
      "outputs": [],
      "source": [
        "cnn.compile(\n",
        "  optimizer='adam',\n",
        "  loss='binary_crossentropy',  \n",
        "  metrics=['accuracy'],\n",
        ")"
      ]
    },
    {
      "cell_type": "code",
      "execution_count": 37,
      "metadata": {
        "colab": {
          "base_uri": "https://localhost:8080/"
        },
        "id": "gGjva7x6T7mx",
        "outputId": "67a12be9-8d48-4229-89d5-42352c4a89ef"
      },
      "outputs": [
        {
          "output_type": "stream",
          "name": "stdout",
          "text": [
            "Model: \"sequential\"\n",
            "_________________________________________________________________\n",
            " Layer (type)                Output Shape              Param #   \n",
            "=================================================================\n",
            " conv1d (Conv1D)             (None, 1022, 128)         512       \n",
            "                                                                 \n",
            " conv1d_1 (Conv1D)           (None, 1020, 32)          12320     \n",
            "                                                                 \n",
            " max_pooling1d (MaxPooling1D  (None, 510, 32)          0         \n",
            " )                                                               \n",
            "                                                                 \n",
            " dropout (Dropout)           (None, 510, 32)           0         \n",
            "                                                                 \n",
            " conv1d_2 (Conv1D)           (None, 508, 64)           6208      \n",
            "                                                                 \n",
            " max_pooling1d_1 (MaxPooling  (None, 254, 64)          0         \n",
            " 1D)                                                             \n",
            "                                                                 \n",
            " dropout_1 (Dropout)         (None, 254, 64)           0         \n",
            "                                                                 \n",
            " flatten (Flatten)           (None, 16256)             0         \n",
            "                                                                 \n",
            " dense (Dense)               (None, 64)                1040448   \n",
            "                                                                 \n",
            " dropout_2 (Dropout)         (None, 64)                0         \n",
            "                                                                 \n",
            " dense_1 (Dense)             (None, 1)                 65        \n",
            "                                                                 \n",
            "=================================================================\n",
            "Total params: 1,059,553\n",
            "Trainable params: 1,059,553\n",
            "Non-trainable params: 0\n",
            "_________________________________________________________________\n"
          ]
        }
      ],
      "source": [
        "cnn.summary()"
      ]
    },
    {
      "cell_type": "code",
      "execution_count": 38,
      "metadata": {
        "colab": {
          "base_uri": "https://localhost:8080/"
        },
        "id": "ByEiiFAnO6v5",
        "outputId": "c99c4c89-5995-4f2f-9159-c1be00278ca0"
      },
      "outputs": [
        {
          "output_type": "stream",
          "name": "stderr",
          "text": [
            "/usr/local/lib/python3.7/dist-packages/ipykernel_launcher.py:5: DeprecationWarning: KerasClassifier is deprecated, use Sci-Keras (https://github.com/adriangb/scikeras) instead. See https://www.adriangb.com/scikeras/stable/migration.html for help migrating.\n",
            "  \"\"\"\n"
          ]
        }
      ],
      "source": [
        "# optimize model \n",
        "start = time()\n",
        "\n",
        "# create model\n",
        "model = KerasClassifier(build_fn=create_cnn_model, verbose=1)\n",
        "# define parameters and values for grid search \n",
        "param_grid = {\n",
        "    'pool_type': ['max', 'average'],\n",
        "    'conv_activation': ['relu', 'tanh'],    \n",
        "    'epochs': [10,30],\n",
        "    'optimizer': ['adam','sgd'],\n",
        "}"
      ]
    },
    {
      "cell_type": "code",
      "execution_count": 39,
      "metadata": {
        "colab": {
          "base_uri": "https://localhost:8080/"
        },
        "id": "j4AjzaBaZDkC",
        "outputId": "4faf1971-bcf7-4eba-abb0-71265c7cd4b1"
      },
      "outputs": [
        {
          "output_type": "stream",
          "name": "stderr",
          "text": [
            "/usr/local/lib/python3.7/dist-packages/joblib/externals/loky/process_executor.py:703: UserWarning: A worker stopped while some jobs were given to the executor. This can be caused by a too short worker timeout or by a memory leak.\n",
            "  \"timeout or by a memory leak.\", UserWarning\n",
            "/usr/local/lib/python3.7/dist-packages/sklearn/model_selection/_validation.py:372: FitFailedWarning: \n",
            "24 fits failed out of a total of 48.\n",
            "The score on these train-test partitions for these parameters will be set to nan.\n",
            "If these failures are not expected, you can try to debug them by setting error_score='raise'.\n",
            "\n",
            "Below are more details about the failures:\n",
            "--------------------------------------------------------------------------------\n",
            "24 fits failed with the following error:\n",
            "Traceback (most recent call last):\n",
            "  File \"/usr/local/lib/python3.7/dist-packages/sklearn/model_selection/_validation.py\", line 680, in _fit_and_score\n",
            "    estimator.fit(X_train, y_train, **fit_params)\n",
            "  File \"/usr/local/lib/python3.7/dist-packages/keras/wrappers/scikit_learn.py\", line 236, in fit\n",
            "    return super(KerasClassifier, self).fit(x, y, **kwargs)\n",
            "  File \"/usr/local/lib/python3.7/dist-packages/keras/wrappers/scikit_learn.py\", line 155, in fit\n",
            "    self.model = self.build_fn(**self.filter_sk_params(self.build_fn))\n",
            "  File \"<ipython-input-34-1352630f6bd8>\", line 13, in create_cnn_model\n",
            "NameError: name 'AveragePooling1D' is not defined\n",
            "\n",
            "  warnings.warn(some_fits_failed_message, FitFailedWarning)\n",
            "/usr/local/lib/python3.7/dist-packages/sklearn/model_selection/_search.py:972: UserWarning: One or more of the test scores are non-finite: [0.95677062        nan 0.26932633        nan 0.95775183        nan\n",
            " 0.34593211        nan 0.95755517        nan 0.26932633        nan\n",
            " 0.95814502        nan 0.38718136        nan]\n",
            "  category=UserWarning,\n"
          ]
        },
        {
          "output_type": "stream",
          "name": "stdout",
          "text": [
            "Epoch 1/30\n",
            "160/160 [==============================] - 11s 63ms/step - loss: 0.1830 - accuracy: 0.9185\n",
            "Epoch 2/30\n",
            "160/160 [==============================] - 10s 62ms/step - loss: 0.0546 - accuracy: 0.9825\n",
            "Epoch 3/30\n",
            "160/160 [==============================] - 10s 62ms/step - loss: 0.0435 - accuracy: 0.9847\n",
            "Epoch 4/30\n",
            "160/160 [==============================] - 10s 62ms/step - loss: 0.0347 - accuracy: 0.9886\n",
            "Epoch 5/30\n",
            "160/160 [==============================] - 10s 62ms/step - loss: 0.0268 - accuracy: 0.9914\n",
            "Epoch 6/30\n",
            "160/160 [==============================] - 10s 61ms/step - loss: 0.0211 - accuracy: 0.9921\n",
            "Epoch 7/30\n",
            "160/160 [==============================] - 10s 62ms/step - loss: 0.0171 - accuracy: 0.9947\n",
            "Epoch 8/30\n",
            "160/160 [==============================] - 10s 62ms/step - loss: 0.0135 - accuracy: 0.9963\n",
            "Epoch 9/30\n",
            "160/160 [==============================] - 10s 62ms/step - loss: 0.0120 - accuracy: 0.9963\n",
            "Epoch 10/30\n",
            "160/160 [==============================] - 10s 62ms/step - loss: 0.0096 - accuracy: 0.9972\n",
            "Epoch 11/30\n",
            "160/160 [==============================] - 10s 62ms/step - loss: 0.0090 - accuracy: 0.9978\n",
            "Epoch 12/30\n",
            "160/160 [==============================] - 10s 62ms/step - loss: 0.0074 - accuracy: 0.9978\n",
            "Epoch 13/30\n",
            "160/160 [==============================] - 10s 62ms/step - loss: 0.0084 - accuracy: 0.9976\n",
            "Epoch 14/30\n",
            "160/160 [==============================] - 10s 61ms/step - loss: 0.0189 - accuracy: 0.9953\n",
            "Epoch 15/30\n",
            "160/160 [==============================] - 10s 62ms/step - loss: 0.0132 - accuracy: 0.9961\n",
            "Epoch 16/30\n",
            "160/160 [==============================] - 10s 62ms/step - loss: 0.0180 - accuracy: 0.9941\n",
            "Epoch 17/30\n",
            "160/160 [==============================] - 10s 65ms/step - loss: 0.0108 - accuracy: 0.9967\n",
            "Epoch 18/30\n",
            "160/160 [==============================] - 10s 62ms/step - loss: 0.0091 - accuracy: 0.9976\n",
            "Epoch 19/30\n",
            "160/160 [==============================] - 10s 62ms/step - loss: 0.0064 - accuracy: 0.9984\n",
            "Epoch 20/30\n",
            "160/160 [==============================] - 10s 62ms/step - loss: 0.0045 - accuracy: 0.9986\n",
            "Epoch 21/30\n",
            "160/160 [==============================] - 10s 62ms/step - loss: 0.0046 - accuracy: 0.9986\n",
            "Epoch 22/30\n",
            "160/160 [==============================] - 10s 62ms/step - loss: 0.0041 - accuracy: 0.9986\n",
            "Epoch 23/30\n",
            "160/160 [==============================] - 10s 63ms/step - loss: 0.0031 - accuracy: 0.9992\n",
            "Epoch 24/30\n",
            "160/160 [==============================] - 10s 62ms/step - loss: 0.0030 - accuracy: 0.9988\n",
            "Epoch 25/30\n",
            "160/160 [==============================] - 10s 62ms/step - loss: 0.0032 - accuracy: 0.9992\n",
            "Epoch 26/30\n",
            "160/160 [==============================] - 10s 62ms/step - loss: 0.0037 - accuracy: 0.9988\n",
            "Epoch 27/30\n",
            "160/160 [==============================] - 10s 62ms/step - loss: 0.0054 - accuracy: 0.9980\n",
            "Epoch 28/30\n",
            "160/160 [==============================] - 10s 63ms/step - loss: 0.0056 - accuracy: 0.9980\n",
            "Epoch 29/30\n",
            "160/160 [==============================] - 10s 63ms/step - loss: 0.0040 - accuracy: 0.9992\n",
            "Epoch 30/30\n",
            "160/160 [==============================] - 10s 64ms/step - loss: 0.0039 - accuracy: 0.9990\n"
          ]
        }
      ],
      "source": [
        "grid = GridSearchCV(estimator=model, param_grid=param_grid, n_jobs=-1, cv=n_cv)\n",
        "grid_result = grid.fit(train_dataset, Y_train)"
      ]
    },
    {
      "cell_type": "code",
      "execution_count": 40,
      "metadata": {
        "id": "GvU3yNNhgdFO"
      },
      "outputs": [],
      "source": [
        "def display_cv_results(search_results):\n",
        "    print('Best score = {:.4f} using {}'.format(search_results.best_score_, search_results.best_params_))\n",
        "    means = search_results.cv_results_['mean_test_score']\n",
        "    stds = search_results.cv_results_['std_test_score']\n",
        "    params = search_results.cv_results_['params']\n",
        "    for mean, stdev, param in zip(means, stds, params):\n",
        "        print('mean test accuracy +/- std = {:.4f} +/- {:.4f} with: {}'.format(mean, stdev, param))   "
      ]
    },
    {
      "cell_type": "code",
      "execution_count": 41,
      "metadata": {
        "colab": {
          "base_uri": "https://localhost:8080/"
        },
        "id": "pdc9syuZgPDy",
        "outputId": "a6518575-b27e-41c7-e6a5-6c43dd31009b"
      },
      "outputs": [
        {
          "output_type": "stream",
          "name": "stdout",
          "text": [
            "time for grid search = 2482 sec\n",
            "Best score = 0.9581 using {'conv_activation': 'tanh', 'epochs': 30, 'optimizer': 'adam', 'pool_type': 'max'}\n",
            "mean test accuracy +/- std = 0.9568 +/- 0.0266 with: {'conv_activation': 'relu', 'epochs': 10, 'optimizer': 'adam', 'pool_type': 'max'}\n",
            "mean test accuracy +/- std = nan +/- nan with: {'conv_activation': 'relu', 'epochs': 10, 'optimizer': 'adam', 'pool_type': 'average'}\n",
            "mean test accuracy +/- std = 0.2693 +/- 0.0995 with: {'conv_activation': 'relu', 'epochs': 10, 'optimizer': 'sgd', 'pool_type': 'max'}\n",
            "mean test accuracy +/- std = nan +/- nan with: {'conv_activation': 'relu', 'epochs': 10, 'optimizer': 'sgd', 'pool_type': 'average'}\n",
            "mean test accuracy +/- std = 0.9578 +/- 0.0306 with: {'conv_activation': 'relu', 'epochs': 30, 'optimizer': 'adam', 'pool_type': 'max'}\n",
            "mean test accuracy +/- std = nan +/- nan with: {'conv_activation': 'relu', 'epochs': 30, 'optimizer': 'adam', 'pool_type': 'average'}\n",
            "mean test accuracy +/- std = 0.3459 +/- 0.1974 with: {'conv_activation': 'relu', 'epochs': 30, 'optimizer': 'sgd', 'pool_type': 'max'}\n",
            "mean test accuracy +/- std = nan +/- nan with: {'conv_activation': 'relu', 'epochs': 30, 'optimizer': 'sgd', 'pool_type': 'average'}\n",
            "mean test accuracy +/- std = 0.9576 +/- 0.0316 with: {'conv_activation': 'tanh', 'epochs': 10, 'optimizer': 'adam', 'pool_type': 'max'}\n",
            "mean test accuracy +/- std = nan +/- nan with: {'conv_activation': 'tanh', 'epochs': 10, 'optimizer': 'adam', 'pool_type': 'average'}\n",
            "mean test accuracy +/- std = 0.2693 +/- 0.0995 with: {'conv_activation': 'tanh', 'epochs': 10, 'optimizer': 'sgd', 'pool_type': 'max'}\n",
            "mean test accuracy +/- std = nan +/- nan with: {'conv_activation': 'tanh', 'epochs': 10, 'optimizer': 'sgd', 'pool_type': 'average'}\n",
            "mean test accuracy +/- std = 0.9581 +/- 0.0298 with: {'conv_activation': 'tanh', 'epochs': 30, 'optimizer': 'adam', 'pool_type': 'max'}\n",
            "mean test accuracy +/- std = nan +/- nan with: {'conv_activation': 'tanh', 'epochs': 30, 'optimizer': 'adam', 'pool_type': 'average'}\n",
            "mean test accuracy +/- std = 0.3872 +/- 0.1868 with: {'conv_activation': 'tanh', 'epochs': 30, 'optimizer': 'sgd', 'pool_type': 'max'}\n",
            "mean test accuracy +/- std = nan +/- nan with: {'conv_activation': 'tanh', 'epochs': 30, 'optimizer': 'sgd', 'pool_type': 'average'}\n"
          ]
        }
      ],
      "source": [
        "# summarize results\n",
        "print('time for grid search = {:.0f} sec'.format(time()-start))\n",
        "display_cv_results(grid_result)"
      ]
    },
    {
      "cell_type": "code",
      "execution_count": 42,
      "metadata": {
        "colab": {
          "base_uri": "https://localhost:8080/",
          "height": 1000
        },
        "id": "lqp_rfA9dLy2",
        "outputId": "b9b61a3b-43d3-409a-8701-f8738effe192"
      },
      "outputs": [
        {
          "output_type": "execute_result",
          "data": {
            "text/plain": [
              "    mean_fit_time  std_fit_time  mean_score_time  std_score_time  \\\n",
              "0      361.570163      0.775565         4.501583        0.120529   \n",
              "1        0.104582      0.003982         0.000000        0.000000   \n",
              "2      359.663370      1.463212         4.981668        0.280163   \n",
              "3        0.045576      0.004137         0.000000        0.000000   \n",
              "4     1065.359592      0.934102         4.890307        0.560047   \n",
              "5        0.104894      0.030610         0.000000        0.000000   \n",
              "6     1081.531662     16.555154         3.905478        0.613164   \n",
              "7        0.119941      0.033043         0.000000        0.000000   \n",
              "8      364.649951      2.427784         5.445194        0.215430   \n",
              "9        0.208666      0.021287         0.000000        0.000000   \n",
              "10     370.942171     11.402321         4.693468        0.690166   \n",
              "11       0.156821      0.059377         0.000000        0.000000   \n",
              "12     836.390200     74.095073         3.687811        0.675758   \n",
              "13       0.122161      0.052125         0.000000        0.000000   \n",
              "14     729.995834      4.351266         1.585258        0.440408   \n",
              "15       0.192590      0.030264         0.000000        0.000000   \n",
              "\n",
              "   param_conv_activation param_epochs param_optimizer param_pool_type  \\\n",
              "0                   relu           10            adam             max   \n",
              "1                   relu           10            adam         average   \n",
              "2                   relu           10             sgd             max   \n",
              "3                   relu           10             sgd         average   \n",
              "4                   relu           30            adam             max   \n",
              "5                   relu           30            adam         average   \n",
              "6                   relu           30             sgd             max   \n",
              "7                   relu           30             sgd         average   \n",
              "8                   tanh           10            adam             max   \n",
              "9                   tanh           10            adam         average   \n",
              "10                  tanh           10             sgd             max   \n",
              "11                  tanh           10             sgd         average   \n",
              "12                  tanh           30            adam             max   \n",
              "13                  tanh           30            adam         average   \n",
              "14                  tanh           30             sgd             max   \n",
              "15                  tanh           30             sgd         average   \n",
              "\n",
              "                                               params  split0_test_score  \\\n",
              "0   {'conv_activation': 'relu', 'epochs': 10, 'opt...           0.975250   \n",
              "1   {'conv_activation': 'relu', 'epochs': 10, 'opt...                NaN   \n",
              "2   {'conv_activation': 'relu', 'epochs': 10, 'opt...           0.382440   \n",
              "3   {'conv_activation': 'relu', 'epochs': 10, 'opt...                NaN   \n",
              "4   {'conv_activation': 'relu', 'epochs': 30, 'opt...           0.977018   \n",
              "5   {'conv_activation': 'relu', 'epochs': 30, 'opt...                NaN   \n",
              "6   {'conv_activation': 'relu', 'epochs': 30, 'opt...           0.612257   \n",
              "7   {'conv_activation': 'relu', 'epochs': 30, 'opt...                NaN   \n",
              "8   {'conv_activation': 'tanh', 'epochs': 10, 'opt...           0.974072   \n",
              "9   {'conv_activation': 'tanh', 'epochs': 10, 'opt...                NaN   \n",
              "10  {'conv_activation': 'tanh', 'epochs': 10, 'opt...           0.382440   \n",
              "11  {'conv_activation': 'tanh', 'epochs': 10, 'opt...                NaN   \n",
              "12  {'conv_activation': 'tanh', 'epochs': 30, 'opt...           0.974661   \n",
              "13  {'conv_activation': 'tanh', 'epochs': 30, 'opt...                NaN   \n",
              "14  {'conv_activation': 'tanh', 'epochs': 30, 'opt...           0.592222   \n",
              "15  {'conv_activation': 'tanh', 'epochs': 30, 'opt...                NaN   \n",
              "\n",
              "    split1_test_score  split2_test_score  mean_test_score  std_test_score  \\\n",
              "0            0.975840           0.919222         0.956771        0.026552   \n",
              "1                 NaN                NaN              NaN             NaN   \n",
              "2            0.285209           0.140330         0.269326        0.099477   \n",
              "3                 NaN                NaN              NaN             NaN   \n",
              "4            0.981732           0.914505         0.957752        0.030641   \n",
              "5                 NaN                NaN              NaN             NaN   \n",
              "6            0.285209           0.140330         0.345932        0.197390   \n",
              "7                 NaN                NaN              NaN             NaN   \n",
              "8            0.985268           0.913325         0.957555        0.031607   \n",
              "9                 NaN                NaN              NaN             NaN   \n",
              "10           0.285209           0.140330         0.269326        0.099477   \n",
              "11                NaN                NaN              NaN             NaN   \n",
              "12           0.983500           0.916274         0.958145        0.029827   \n",
              "13                NaN                NaN              NaN             NaN   \n",
              "14           0.428992           0.140330         0.387181        0.186838   \n",
              "15                NaN                NaN              NaN             NaN   \n",
              "\n",
              "    rank_test_score  \n",
              "0                 4  \n",
              "1                 9  \n",
              "2                 7  \n",
              "3                10  \n",
              "4                 2  \n",
              "5                11  \n",
              "6                 6  \n",
              "7                12  \n",
              "8                 3  \n",
              "9                13  \n",
              "10                7  \n",
              "11               14  \n",
              "12                1  \n",
              "13               15  \n",
              "14                5  \n",
              "15               16  "
            ],
            "text/html": [
              "\n",
              "  <div id=\"df-6919f5ac-6630-4bfc-bd20-970c49ff2889\">\n",
              "    <div class=\"colab-df-container\">\n",
              "      <div>\n",
              "<style scoped>\n",
              "    .dataframe tbody tr th:only-of-type {\n",
              "        vertical-align: middle;\n",
              "    }\n",
              "\n",
              "    .dataframe tbody tr th {\n",
              "        vertical-align: top;\n",
              "    }\n",
              "\n",
              "    .dataframe thead th {\n",
              "        text-align: right;\n",
              "    }\n",
              "</style>\n",
              "<table border=\"1\" class=\"dataframe\">\n",
              "  <thead>\n",
              "    <tr style=\"text-align: right;\">\n",
              "      <th></th>\n",
              "      <th>mean_fit_time</th>\n",
              "      <th>std_fit_time</th>\n",
              "      <th>mean_score_time</th>\n",
              "      <th>std_score_time</th>\n",
              "      <th>param_conv_activation</th>\n",
              "      <th>param_epochs</th>\n",
              "      <th>param_optimizer</th>\n",
              "      <th>param_pool_type</th>\n",
              "      <th>params</th>\n",
              "      <th>split0_test_score</th>\n",
              "      <th>split1_test_score</th>\n",
              "      <th>split2_test_score</th>\n",
              "      <th>mean_test_score</th>\n",
              "      <th>std_test_score</th>\n",
              "      <th>rank_test_score</th>\n",
              "    </tr>\n",
              "  </thead>\n",
              "  <tbody>\n",
              "    <tr>\n",
              "      <th>0</th>\n",
              "      <td>361.570163</td>\n",
              "      <td>0.775565</td>\n",
              "      <td>4.501583</td>\n",
              "      <td>0.120529</td>\n",
              "      <td>relu</td>\n",
              "      <td>10</td>\n",
              "      <td>adam</td>\n",
              "      <td>max</td>\n",
              "      <td>{'conv_activation': 'relu', 'epochs': 10, 'opt...</td>\n",
              "      <td>0.975250</td>\n",
              "      <td>0.975840</td>\n",
              "      <td>0.919222</td>\n",
              "      <td>0.956771</td>\n",
              "      <td>0.026552</td>\n",
              "      <td>4</td>\n",
              "    </tr>\n",
              "    <tr>\n",
              "      <th>1</th>\n",
              "      <td>0.104582</td>\n",
              "      <td>0.003982</td>\n",
              "      <td>0.000000</td>\n",
              "      <td>0.000000</td>\n",
              "      <td>relu</td>\n",
              "      <td>10</td>\n",
              "      <td>adam</td>\n",
              "      <td>average</td>\n",
              "      <td>{'conv_activation': 'relu', 'epochs': 10, 'opt...</td>\n",
              "      <td>NaN</td>\n",
              "      <td>NaN</td>\n",
              "      <td>NaN</td>\n",
              "      <td>NaN</td>\n",
              "      <td>NaN</td>\n",
              "      <td>9</td>\n",
              "    </tr>\n",
              "    <tr>\n",
              "      <th>2</th>\n",
              "      <td>359.663370</td>\n",
              "      <td>1.463212</td>\n",
              "      <td>4.981668</td>\n",
              "      <td>0.280163</td>\n",
              "      <td>relu</td>\n",
              "      <td>10</td>\n",
              "      <td>sgd</td>\n",
              "      <td>max</td>\n",
              "      <td>{'conv_activation': 'relu', 'epochs': 10, 'opt...</td>\n",
              "      <td>0.382440</td>\n",
              "      <td>0.285209</td>\n",
              "      <td>0.140330</td>\n",
              "      <td>0.269326</td>\n",
              "      <td>0.099477</td>\n",
              "      <td>7</td>\n",
              "    </tr>\n",
              "    <tr>\n",
              "      <th>3</th>\n",
              "      <td>0.045576</td>\n",
              "      <td>0.004137</td>\n",
              "      <td>0.000000</td>\n",
              "      <td>0.000000</td>\n",
              "      <td>relu</td>\n",
              "      <td>10</td>\n",
              "      <td>sgd</td>\n",
              "      <td>average</td>\n",
              "      <td>{'conv_activation': 'relu', 'epochs': 10, 'opt...</td>\n",
              "      <td>NaN</td>\n",
              "      <td>NaN</td>\n",
              "      <td>NaN</td>\n",
              "      <td>NaN</td>\n",
              "      <td>NaN</td>\n",
              "      <td>10</td>\n",
              "    </tr>\n",
              "    <tr>\n",
              "      <th>4</th>\n",
              "      <td>1065.359592</td>\n",
              "      <td>0.934102</td>\n",
              "      <td>4.890307</td>\n",
              "      <td>0.560047</td>\n",
              "      <td>relu</td>\n",
              "      <td>30</td>\n",
              "      <td>adam</td>\n",
              "      <td>max</td>\n",
              "      <td>{'conv_activation': 'relu', 'epochs': 30, 'opt...</td>\n",
              "      <td>0.977018</td>\n",
              "      <td>0.981732</td>\n",
              "      <td>0.914505</td>\n",
              "      <td>0.957752</td>\n",
              "      <td>0.030641</td>\n",
              "      <td>2</td>\n",
              "    </tr>\n",
              "    <tr>\n",
              "      <th>5</th>\n",
              "      <td>0.104894</td>\n",
              "      <td>0.030610</td>\n",
              "      <td>0.000000</td>\n",
              "      <td>0.000000</td>\n",
              "      <td>relu</td>\n",
              "      <td>30</td>\n",
              "      <td>adam</td>\n",
              "      <td>average</td>\n",
              "      <td>{'conv_activation': 'relu', 'epochs': 30, 'opt...</td>\n",
              "      <td>NaN</td>\n",
              "      <td>NaN</td>\n",
              "      <td>NaN</td>\n",
              "      <td>NaN</td>\n",
              "      <td>NaN</td>\n",
              "      <td>11</td>\n",
              "    </tr>\n",
              "    <tr>\n",
              "      <th>6</th>\n",
              "      <td>1081.531662</td>\n",
              "      <td>16.555154</td>\n",
              "      <td>3.905478</td>\n",
              "      <td>0.613164</td>\n",
              "      <td>relu</td>\n",
              "      <td>30</td>\n",
              "      <td>sgd</td>\n",
              "      <td>max</td>\n",
              "      <td>{'conv_activation': 'relu', 'epochs': 30, 'opt...</td>\n",
              "      <td>0.612257</td>\n",
              "      <td>0.285209</td>\n",
              "      <td>0.140330</td>\n",
              "      <td>0.345932</td>\n",
              "      <td>0.197390</td>\n",
              "      <td>6</td>\n",
              "    </tr>\n",
              "    <tr>\n",
              "      <th>7</th>\n",
              "      <td>0.119941</td>\n",
              "      <td>0.033043</td>\n",
              "      <td>0.000000</td>\n",
              "      <td>0.000000</td>\n",
              "      <td>relu</td>\n",
              "      <td>30</td>\n",
              "      <td>sgd</td>\n",
              "      <td>average</td>\n",
              "      <td>{'conv_activation': 'relu', 'epochs': 30, 'opt...</td>\n",
              "      <td>NaN</td>\n",
              "      <td>NaN</td>\n",
              "      <td>NaN</td>\n",
              "      <td>NaN</td>\n",
              "      <td>NaN</td>\n",
              "      <td>12</td>\n",
              "    </tr>\n",
              "    <tr>\n",
              "      <th>8</th>\n",
              "      <td>364.649951</td>\n",
              "      <td>2.427784</td>\n",
              "      <td>5.445194</td>\n",
              "      <td>0.215430</td>\n",
              "      <td>tanh</td>\n",
              "      <td>10</td>\n",
              "      <td>adam</td>\n",
              "      <td>max</td>\n",
              "      <td>{'conv_activation': 'tanh', 'epochs': 10, 'opt...</td>\n",
              "      <td>0.974072</td>\n",
              "      <td>0.985268</td>\n",
              "      <td>0.913325</td>\n",
              "      <td>0.957555</td>\n",
              "      <td>0.031607</td>\n",
              "      <td>3</td>\n",
              "    </tr>\n",
              "    <tr>\n",
              "      <th>9</th>\n",
              "      <td>0.208666</td>\n",
              "      <td>0.021287</td>\n",
              "      <td>0.000000</td>\n",
              "      <td>0.000000</td>\n",
              "      <td>tanh</td>\n",
              "      <td>10</td>\n",
              "      <td>adam</td>\n",
              "      <td>average</td>\n",
              "      <td>{'conv_activation': 'tanh', 'epochs': 10, 'opt...</td>\n",
              "      <td>NaN</td>\n",
              "      <td>NaN</td>\n",
              "      <td>NaN</td>\n",
              "      <td>NaN</td>\n",
              "      <td>NaN</td>\n",
              "      <td>13</td>\n",
              "    </tr>\n",
              "    <tr>\n",
              "      <th>10</th>\n",
              "      <td>370.942171</td>\n",
              "      <td>11.402321</td>\n",
              "      <td>4.693468</td>\n",
              "      <td>0.690166</td>\n",
              "      <td>tanh</td>\n",
              "      <td>10</td>\n",
              "      <td>sgd</td>\n",
              "      <td>max</td>\n",
              "      <td>{'conv_activation': 'tanh', 'epochs': 10, 'opt...</td>\n",
              "      <td>0.382440</td>\n",
              "      <td>0.285209</td>\n",
              "      <td>0.140330</td>\n",
              "      <td>0.269326</td>\n",
              "      <td>0.099477</td>\n",
              "      <td>7</td>\n",
              "    </tr>\n",
              "    <tr>\n",
              "      <th>11</th>\n",
              "      <td>0.156821</td>\n",
              "      <td>0.059377</td>\n",
              "      <td>0.000000</td>\n",
              "      <td>0.000000</td>\n",
              "      <td>tanh</td>\n",
              "      <td>10</td>\n",
              "      <td>sgd</td>\n",
              "      <td>average</td>\n",
              "      <td>{'conv_activation': 'tanh', 'epochs': 10, 'opt...</td>\n",
              "      <td>NaN</td>\n",
              "      <td>NaN</td>\n",
              "      <td>NaN</td>\n",
              "      <td>NaN</td>\n",
              "      <td>NaN</td>\n",
              "      <td>14</td>\n",
              "    </tr>\n",
              "    <tr>\n",
              "      <th>12</th>\n",
              "      <td>836.390200</td>\n",
              "      <td>74.095073</td>\n",
              "      <td>3.687811</td>\n",
              "      <td>0.675758</td>\n",
              "      <td>tanh</td>\n",
              "      <td>30</td>\n",
              "      <td>adam</td>\n",
              "      <td>max</td>\n",
              "      <td>{'conv_activation': 'tanh', 'epochs': 30, 'opt...</td>\n",
              "      <td>0.974661</td>\n",
              "      <td>0.983500</td>\n",
              "      <td>0.916274</td>\n",
              "      <td>0.958145</td>\n",
              "      <td>0.029827</td>\n",
              "      <td>1</td>\n",
              "    </tr>\n",
              "    <tr>\n",
              "      <th>13</th>\n",
              "      <td>0.122161</td>\n",
              "      <td>0.052125</td>\n",
              "      <td>0.000000</td>\n",
              "      <td>0.000000</td>\n",
              "      <td>tanh</td>\n",
              "      <td>30</td>\n",
              "      <td>adam</td>\n",
              "      <td>average</td>\n",
              "      <td>{'conv_activation': 'tanh', 'epochs': 30, 'opt...</td>\n",
              "      <td>NaN</td>\n",
              "      <td>NaN</td>\n",
              "      <td>NaN</td>\n",
              "      <td>NaN</td>\n",
              "      <td>NaN</td>\n",
              "      <td>15</td>\n",
              "    </tr>\n",
              "    <tr>\n",
              "      <th>14</th>\n",
              "      <td>729.995834</td>\n",
              "      <td>4.351266</td>\n",
              "      <td>1.585258</td>\n",
              "      <td>0.440408</td>\n",
              "      <td>tanh</td>\n",
              "      <td>30</td>\n",
              "      <td>sgd</td>\n",
              "      <td>max</td>\n",
              "      <td>{'conv_activation': 'tanh', 'epochs': 30, 'opt...</td>\n",
              "      <td>0.592222</td>\n",
              "      <td>0.428992</td>\n",
              "      <td>0.140330</td>\n",
              "      <td>0.387181</td>\n",
              "      <td>0.186838</td>\n",
              "      <td>5</td>\n",
              "    </tr>\n",
              "    <tr>\n",
              "      <th>15</th>\n",
              "      <td>0.192590</td>\n",
              "      <td>0.030264</td>\n",
              "      <td>0.000000</td>\n",
              "      <td>0.000000</td>\n",
              "      <td>tanh</td>\n",
              "      <td>30</td>\n",
              "      <td>sgd</td>\n",
              "      <td>average</td>\n",
              "      <td>{'conv_activation': 'tanh', 'epochs': 30, 'opt...</td>\n",
              "      <td>NaN</td>\n",
              "      <td>NaN</td>\n",
              "      <td>NaN</td>\n",
              "      <td>NaN</td>\n",
              "      <td>NaN</td>\n",
              "      <td>16</td>\n",
              "    </tr>\n",
              "  </tbody>\n",
              "</table>\n",
              "</div>\n",
              "      <button class=\"colab-df-convert\" onclick=\"convertToInteractive('df-6919f5ac-6630-4bfc-bd20-970c49ff2889')\"\n",
              "              title=\"Convert this dataframe to an interactive table.\"\n",
              "              style=\"display:none;\">\n",
              "        \n",
              "  <svg xmlns=\"http://www.w3.org/2000/svg\" height=\"24px\"viewBox=\"0 0 24 24\"\n",
              "       width=\"24px\">\n",
              "    <path d=\"M0 0h24v24H0V0z\" fill=\"none\"/>\n",
              "    <path d=\"M18.56 5.44l.94 2.06.94-2.06 2.06-.94-2.06-.94-.94-2.06-.94 2.06-2.06.94zm-11 1L8.5 8.5l.94-2.06 2.06-.94-2.06-.94L8.5 2.5l-.94 2.06-2.06.94zm10 10l.94 2.06.94-2.06 2.06-.94-2.06-.94-.94-2.06-.94 2.06-2.06.94z\"/><path d=\"M17.41 7.96l-1.37-1.37c-.4-.4-.92-.59-1.43-.59-.52 0-1.04.2-1.43.59L10.3 9.45l-7.72 7.72c-.78.78-.78 2.05 0 2.83L4 21.41c.39.39.9.59 1.41.59.51 0 1.02-.2 1.41-.59l7.78-7.78 2.81-2.81c.8-.78.8-2.07 0-2.86zM5.41 20L4 18.59l7.72-7.72 1.47 1.35L5.41 20z\"/>\n",
              "  </svg>\n",
              "      </button>\n",
              "      \n",
              "  <style>\n",
              "    .colab-df-container {\n",
              "      display:flex;\n",
              "      flex-wrap:wrap;\n",
              "      gap: 12px;\n",
              "    }\n",
              "\n",
              "    .colab-df-convert {\n",
              "      background-color: #E8F0FE;\n",
              "      border: none;\n",
              "      border-radius: 50%;\n",
              "      cursor: pointer;\n",
              "      display: none;\n",
              "      fill: #1967D2;\n",
              "      height: 32px;\n",
              "      padding: 0 0 0 0;\n",
              "      width: 32px;\n",
              "    }\n",
              "\n",
              "    .colab-df-convert:hover {\n",
              "      background-color: #E2EBFA;\n",
              "      box-shadow: 0px 1px 2px rgba(60, 64, 67, 0.3), 0px 1px 3px 1px rgba(60, 64, 67, 0.15);\n",
              "      fill: #174EA6;\n",
              "    }\n",
              "\n",
              "    [theme=dark] .colab-df-convert {\n",
              "      background-color: #3B4455;\n",
              "      fill: #D2E3FC;\n",
              "    }\n",
              "\n",
              "    [theme=dark] .colab-df-convert:hover {\n",
              "      background-color: #434B5C;\n",
              "      box-shadow: 0px 1px 3px 1px rgba(0, 0, 0, 0.15);\n",
              "      filter: drop-shadow(0px 1px 2px rgba(0, 0, 0, 0.3));\n",
              "      fill: #FFFFFF;\n",
              "    }\n",
              "  </style>\n",
              "\n",
              "      <script>\n",
              "        const buttonEl =\n",
              "          document.querySelector('#df-6919f5ac-6630-4bfc-bd20-970c49ff2889 button.colab-df-convert');\n",
              "        buttonEl.style.display =\n",
              "          google.colab.kernel.accessAllowed ? 'block' : 'none';\n",
              "\n",
              "        async function convertToInteractive(key) {\n",
              "          const element = document.querySelector('#df-6919f5ac-6630-4bfc-bd20-970c49ff2889');\n",
              "          const dataTable =\n",
              "            await google.colab.kernel.invokeFunction('convertToInteractive',\n",
              "                                                     [key], {});\n",
              "          if (!dataTable) return;\n",
              "\n",
              "          const docLinkHtml = 'Like what you see? Visit the ' +\n",
              "            '<a target=\"_blank\" href=https://colab.research.google.com/notebooks/data_table.ipynb>data table notebook</a>'\n",
              "            + ' to learn more about interactive tables.';\n",
              "          element.innerHTML = '';\n",
              "          dataTable['output_type'] = 'display_data';\n",
              "          await google.colab.output.renderOutput(dataTable, element);\n",
              "          const docLink = document.createElement('div');\n",
              "          docLink.innerHTML = docLinkHtml;\n",
              "          element.appendChild(docLink);\n",
              "        }\n",
              "      </script>\n",
              "    </div>\n",
              "  </div>\n",
              "  "
            ]
          },
          "metadata": {},
          "execution_count": 42
        }
      ],
      "source": [
        "DataFrame(grid.cv_results_)"
      ]
    },
    {
      "cell_type": "code",
      "execution_count": 43,
      "metadata": {
        "id": "Tn8hczYMdLy5"
      },
      "outputs": [],
      "source": [
        "df =pd.DataFrame(grid.cv_results_)\n",
        "#new_path = '/content/test.xls'\n",
        "#writer = pd.ExcelWriter(new_path, engine='xlsxwriter')\n",
        "df.to_excel('/content/drive/MyDrive/SOM/CNNMergedUnique.xlsx')"
      ]
    },
    {
      "cell_type": "code",
      "execution_count": 44,
      "metadata": {
        "colab": {
          "base_uri": "https://localhost:8080/"
        },
        "id": "5UoXcPndi1td",
        "outputId": "2dd30c0d-d1b6-41ff-b933-614d14c74680"
      },
      "outputs": [
        {
          "output_type": "execute_result",
          "data": {
            "text/plain": [
              "{'verbose': 1,\n",
              " 'conv_activation': 'tanh',\n",
              " 'epochs': 30,\n",
              " 'optimizer': 'adam',\n",
              " 'pool_type': 'max',\n",
              " 'build_fn': <function __main__.create_cnn_model(pool_type='max', conv_activation='sigmoid', optimizer='adam', dropout_rate=0.1)>}"
            ]
          },
          "metadata": {},
          "execution_count": 44
        }
      ],
      "source": [
        "classifier = grid.best_estimator_\n",
        "\n",
        "params = classifier.get_params()\n",
        "params"
      ]
    },
    {
      "cell_type": "code",
      "execution_count": 45,
      "metadata": {
        "colab": {
          "base_uri": "https://localhost:8080/"
        },
        "id": "-It8jLsCj9dy",
        "outputId": "0d079b62-8f2d-4ef5-b638-f7fa37da93ff"
      },
      "outputs": [
        {
          "output_type": "stream",
          "name": "stdout",
          "text": [
            "3/3 [==============================] - 0s 14ms/step\n",
            "Our model has an accuracy of 0.9\n"
          ]
        }
      ],
      "source": [
        "# Basic Protocol 3 — Step 10\n",
        "\n",
        "predicted_testing_labels = classifier.predict(test_dataset)\n",
        "accuracy = accuracy_score(testing_labels, predicted_testing_labels)\n",
        "\n",
        "print(f\"Our model has an accuracy of {accuracy:.2}\")"
      ]
    },
    {
      "cell_type": "code",
      "source": [
        "from sklearn.metrics import f1_score, matthews_corrcoef, accuracy_score, balanced_accuracy_score\n",
        "import numpy as np\n",
        "        \n",
        "bootstrap_performances = list()\n",
        "performances = list()\n",
        "f1_performances = list()\n",
        "Y = np.array(testing_labels) # convert list of groundtruths to numpy\n",
        "Yhat = np.array(predicted_testing_labels) # same same for predictions\n",
        "n_samples = len(Y) # get number of samples \n",
        "n_bootstrap = 1000 # number of bootstrap iterations\n",
        "metric = matthews_corrcoef # the metric you want to compute\n",
        "for i in range(n_bootstrap): # for each bootstrap draw\n",
        "  subset = np.random.choice(n_samples, n_samples, replace=True) \n",
        "  # create a random subset of your predictions/targets with replacement (this line will only generate the indices for list elements and the line below will grab the random subset with replacement\n",
        "  bootstrap_performances.append( matthews_corrcoef(testing_labels[subset], predicted_testing_labels[subset]) )\n",
        "  performances.append(accuracy_score(testing_labels[subset], predicted_testing_labels[subset]))\n",
        "  f1_performances.append(f1_score(testing_labels[subset], predicted_testing_labels[subset]))\n",
        "std_dev = np.std(bootstrap_performances) # compute std deviation over the bootstrapped performances\n",
        "sd = np.std(performances)\n",
        "sd_f1= np.std(f1_performances)\n",
        "#print(\"Standard error after 1k bootstrapping iterations: {:.5f}\".format(std_dev))|\n",
        "#print(performances)\n",
        "print(std_dev)\n",
        "print(sd)\n",
        "print(sd_f1)"
      ],
      "metadata": {
        "id": "YpdYI8l00p0R",
        "outputId": "672d8585-4a6a-421c-fe9d-f5d03bb8c446",
        "colab": {
          "base_uri": "https://localhost:8080/"
        }
      },
      "execution_count": 46,
      "outputs": [
        {
          "output_type": "stream",
          "name": "stdout",
          "text": [
            "0.07223074917532217\n",
            "0.035570135899392265\n",
            "0.047826961201984645\n"
          ]
        }
      ]
    },
    {
      "cell_type": "code",
      "execution_count": 47,
      "metadata": {
        "colab": {
          "base_uri": "https://localhost:8080/"
        },
        "id": "45PkomX_j9dy",
        "outputId": "5b47942e-bd12-4e26-d1a2-9cf7427f8643"
      },
      "outputs": [
        {
          "output_type": "stream",
          "name": "stdout",
          "text": [
            "              precision    recall  f1-score   support\n",
            "\n",
            "           0       0.89      0.95      0.92        42\n",
            "           1       0.93      0.83      0.88        30\n",
            "\n",
            "    accuracy                           0.90        72\n",
            "   macro avg       0.91      0.89      0.90        72\n",
            "weighted avg       0.90      0.90      0.90        72\n",
            "\n"
          ]
        }
      ],
      "source": [
        "print(classification_report(testing_labels, predicted_testing_labels))"
      ]
    },
    {
      "cell_type": "code",
      "execution_count": 48,
      "metadata": {
        "colab": {
          "base_uri": "https://localhost:8080/"
        },
        "id": "sc0Zcimtj9dy",
        "outputId": "bb7fced1-9c51-42c4-a215-943f80c67983"
      },
      "outputs": [
        {
          "output_type": "stream",
          "name": "stdout",
          "text": [
            "0.8001322641986388\n"
          ]
        }
      ],
      "source": [
        "print(matthews_corrcoef(testing_labels, predicted_testing_labels))"
      ]
    },
    {
      "cell_type": "code",
      "execution_count": 49,
      "metadata": {
        "colab": {
          "base_uri": "https://localhost:8080/",
          "height": 551
        },
        "id": "2e7ei0hoj9dy",
        "outputId": "eff009fc-890b-4803-ae2c-bca09f938c9c"
      },
      "outputs": [
        {
          "output_type": "execute_result",
          "data": {
            "text/plain": [
              "   param_conv_activation  split0_test_score  split1_test_score  \\\n",
              "0                   relu           0.975250           0.975840   \n",
              "1                   relu                NaN                NaN   \n",
              "2                   relu           0.382440           0.285209   \n",
              "3                   relu                NaN                NaN   \n",
              "4                   relu           0.977018           0.981732   \n",
              "5                   relu                NaN                NaN   \n",
              "6                   relu           0.612257           0.285209   \n",
              "7                   relu                NaN                NaN   \n",
              "8                   tanh           0.974072           0.985268   \n",
              "9                   tanh                NaN                NaN   \n",
              "10                  tanh           0.382440           0.285209   \n",
              "11                  tanh                NaN                NaN   \n",
              "12                  tanh           0.974661           0.983500   \n",
              "13                  tanh                NaN                NaN   \n",
              "14                  tanh           0.592222           0.428992   \n",
              "15                  tanh                NaN                NaN   \n",
              "\n",
              "    split2_test_score  \n",
              "0            0.919222  \n",
              "1                 NaN  \n",
              "2            0.140330  \n",
              "3                 NaN  \n",
              "4            0.914505  \n",
              "5                 NaN  \n",
              "6            0.140330  \n",
              "7                 NaN  \n",
              "8            0.913325  \n",
              "9                 NaN  \n",
              "10           0.140330  \n",
              "11                NaN  \n",
              "12           0.916274  \n",
              "13                NaN  \n",
              "14           0.140330  \n",
              "15                NaN  "
            ],
            "text/html": [
              "\n",
              "  <div id=\"df-65bd7da8-c50d-4f52-87a7-b85280a15325\">\n",
              "    <div class=\"colab-df-container\">\n",
              "      <div>\n",
              "<style scoped>\n",
              "    .dataframe tbody tr th:only-of-type {\n",
              "        vertical-align: middle;\n",
              "    }\n",
              "\n",
              "    .dataframe tbody tr th {\n",
              "        vertical-align: top;\n",
              "    }\n",
              "\n",
              "    .dataframe thead th {\n",
              "        text-align: right;\n",
              "    }\n",
              "</style>\n",
              "<table border=\"1\" class=\"dataframe\">\n",
              "  <thead>\n",
              "    <tr style=\"text-align: right;\">\n",
              "      <th></th>\n",
              "      <th>param_conv_activation</th>\n",
              "      <th>split0_test_score</th>\n",
              "      <th>split1_test_score</th>\n",
              "      <th>split2_test_score</th>\n",
              "    </tr>\n",
              "  </thead>\n",
              "  <tbody>\n",
              "    <tr>\n",
              "      <th>0</th>\n",
              "      <td>relu</td>\n",
              "      <td>0.975250</td>\n",
              "      <td>0.975840</td>\n",
              "      <td>0.919222</td>\n",
              "    </tr>\n",
              "    <tr>\n",
              "      <th>1</th>\n",
              "      <td>relu</td>\n",
              "      <td>NaN</td>\n",
              "      <td>NaN</td>\n",
              "      <td>NaN</td>\n",
              "    </tr>\n",
              "    <tr>\n",
              "      <th>2</th>\n",
              "      <td>relu</td>\n",
              "      <td>0.382440</td>\n",
              "      <td>0.285209</td>\n",
              "      <td>0.140330</td>\n",
              "    </tr>\n",
              "    <tr>\n",
              "      <th>3</th>\n",
              "      <td>relu</td>\n",
              "      <td>NaN</td>\n",
              "      <td>NaN</td>\n",
              "      <td>NaN</td>\n",
              "    </tr>\n",
              "    <tr>\n",
              "      <th>4</th>\n",
              "      <td>relu</td>\n",
              "      <td>0.977018</td>\n",
              "      <td>0.981732</td>\n",
              "      <td>0.914505</td>\n",
              "    </tr>\n",
              "    <tr>\n",
              "      <th>5</th>\n",
              "      <td>relu</td>\n",
              "      <td>NaN</td>\n",
              "      <td>NaN</td>\n",
              "      <td>NaN</td>\n",
              "    </tr>\n",
              "    <tr>\n",
              "      <th>6</th>\n",
              "      <td>relu</td>\n",
              "      <td>0.612257</td>\n",
              "      <td>0.285209</td>\n",
              "      <td>0.140330</td>\n",
              "    </tr>\n",
              "    <tr>\n",
              "      <th>7</th>\n",
              "      <td>relu</td>\n",
              "      <td>NaN</td>\n",
              "      <td>NaN</td>\n",
              "      <td>NaN</td>\n",
              "    </tr>\n",
              "    <tr>\n",
              "      <th>8</th>\n",
              "      <td>tanh</td>\n",
              "      <td>0.974072</td>\n",
              "      <td>0.985268</td>\n",
              "      <td>0.913325</td>\n",
              "    </tr>\n",
              "    <tr>\n",
              "      <th>9</th>\n",
              "      <td>tanh</td>\n",
              "      <td>NaN</td>\n",
              "      <td>NaN</td>\n",
              "      <td>NaN</td>\n",
              "    </tr>\n",
              "    <tr>\n",
              "      <th>10</th>\n",
              "      <td>tanh</td>\n",
              "      <td>0.382440</td>\n",
              "      <td>0.285209</td>\n",
              "      <td>0.140330</td>\n",
              "    </tr>\n",
              "    <tr>\n",
              "      <th>11</th>\n",
              "      <td>tanh</td>\n",
              "      <td>NaN</td>\n",
              "      <td>NaN</td>\n",
              "      <td>NaN</td>\n",
              "    </tr>\n",
              "    <tr>\n",
              "      <th>12</th>\n",
              "      <td>tanh</td>\n",
              "      <td>0.974661</td>\n",
              "      <td>0.983500</td>\n",
              "      <td>0.916274</td>\n",
              "    </tr>\n",
              "    <tr>\n",
              "      <th>13</th>\n",
              "      <td>tanh</td>\n",
              "      <td>NaN</td>\n",
              "      <td>NaN</td>\n",
              "      <td>NaN</td>\n",
              "    </tr>\n",
              "    <tr>\n",
              "      <th>14</th>\n",
              "      <td>tanh</td>\n",
              "      <td>0.592222</td>\n",
              "      <td>0.428992</td>\n",
              "      <td>0.140330</td>\n",
              "    </tr>\n",
              "    <tr>\n",
              "      <th>15</th>\n",
              "      <td>tanh</td>\n",
              "      <td>NaN</td>\n",
              "      <td>NaN</td>\n",
              "      <td>NaN</td>\n",
              "    </tr>\n",
              "  </tbody>\n",
              "</table>\n",
              "</div>\n",
              "      <button class=\"colab-df-convert\" onclick=\"convertToInteractive('df-65bd7da8-c50d-4f52-87a7-b85280a15325')\"\n",
              "              title=\"Convert this dataframe to an interactive table.\"\n",
              "              style=\"display:none;\">\n",
              "        \n",
              "  <svg xmlns=\"http://www.w3.org/2000/svg\" height=\"24px\"viewBox=\"0 0 24 24\"\n",
              "       width=\"24px\">\n",
              "    <path d=\"M0 0h24v24H0V0z\" fill=\"none\"/>\n",
              "    <path d=\"M18.56 5.44l.94 2.06.94-2.06 2.06-.94-2.06-.94-.94-2.06-.94 2.06-2.06.94zm-11 1L8.5 8.5l.94-2.06 2.06-.94-2.06-.94L8.5 2.5l-.94 2.06-2.06.94zm10 10l.94 2.06.94-2.06 2.06-.94-2.06-.94-.94-2.06-.94 2.06-2.06.94z\"/><path d=\"M17.41 7.96l-1.37-1.37c-.4-.4-.92-.59-1.43-.59-.52 0-1.04.2-1.43.59L10.3 9.45l-7.72 7.72c-.78.78-.78 2.05 0 2.83L4 21.41c.39.39.9.59 1.41.59.51 0 1.02-.2 1.41-.59l7.78-7.78 2.81-2.81c.8-.78.8-2.07 0-2.86zM5.41 20L4 18.59l7.72-7.72 1.47 1.35L5.41 20z\"/>\n",
              "  </svg>\n",
              "      </button>\n",
              "      \n",
              "  <style>\n",
              "    .colab-df-container {\n",
              "      display:flex;\n",
              "      flex-wrap:wrap;\n",
              "      gap: 12px;\n",
              "    }\n",
              "\n",
              "    .colab-df-convert {\n",
              "      background-color: #E8F0FE;\n",
              "      border: none;\n",
              "      border-radius: 50%;\n",
              "      cursor: pointer;\n",
              "      display: none;\n",
              "      fill: #1967D2;\n",
              "      height: 32px;\n",
              "      padding: 0 0 0 0;\n",
              "      width: 32px;\n",
              "    }\n",
              "\n",
              "    .colab-df-convert:hover {\n",
              "      background-color: #E2EBFA;\n",
              "      box-shadow: 0px 1px 2px rgba(60, 64, 67, 0.3), 0px 1px 3px 1px rgba(60, 64, 67, 0.15);\n",
              "      fill: #174EA6;\n",
              "    }\n",
              "\n",
              "    [theme=dark] .colab-df-convert {\n",
              "      background-color: #3B4455;\n",
              "      fill: #D2E3FC;\n",
              "    }\n",
              "\n",
              "    [theme=dark] .colab-df-convert:hover {\n",
              "      background-color: #434B5C;\n",
              "      box-shadow: 0px 1px 3px 1px rgba(0, 0, 0, 0.15);\n",
              "      filter: drop-shadow(0px 1px 2px rgba(0, 0, 0, 0.3));\n",
              "      fill: #FFFFFF;\n",
              "    }\n",
              "  </style>\n",
              "\n",
              "      <script>\n",
              "        const buttonEl =\n",
              "          document.querySelector('#df-65bd7da8-c50d-4f52-87a7-b85280a15325 button.colab-df-convert');\n",
              "        buttonEl.style.display =\n",
              "          google.colab.kernel.accessAllowed ? 'block' : 'none';\n",
              "\n",
              "        async function convertToInteractive(key) {\n",
              "          const element = document.querySelector('#df-65bd7da8-c50d-4f52-87a7-b85280a15325');\n",
              "          const dataTable =\n",
              "            await google.colab.kernel.invokeFunction('convertToInteractive',\n",
              "                                                     [key], {});\n",
              "          if (!dataTable) return;\n",
              "\n",
              "          const docLinkHtml = 'Like what you see? Visit the ' +\n",
              "            '<a target=\"_blank\" href=https://colab.research.google.com/notebooks/data_table.ipynb>data table notebook</a>'\n",
              "            + ' to learn more about interactive tables.';\n",
              "          element.innerHTML = '';\n",
              "          dataTable['output_type'] = 'display_data';\n",
              "          await google.colab.output.renderOutput(dataTable, element);\n",
              "          const docLink = document.createElement('div');\n",
              "          docLink.innerHTML = docLinkHtml;\n",
              "          element.appendChild(docLink);\n",
              "        }\n",
              "      </script>\n",
              "    </div>\n",
              "  </div>\n",
              "  "
            ]
          },
          "metadata": {},
          "execution_count": 49
        }
      ],
      "source": [
        "from pandas import DataFrame\n",
        "cv_results = DataFrame(grid.cv_results_)\n",
        "\n",
        "cv_results[['param_conv_activation','split0_test_score', 'split1_test_score', 'split2_test_score']]"
      ]
    },
    {
      "cell_type": "code",
      "execution_count": 50,
      "metadata": {
        "id": "R1Ut3Y2ej9dy"
      },
      "outputs": [],
      "source": [
        "# Further metrics\n",
        "from sklearn.metrics import confusion_matrix\n",
        "\n",
        "# Data visualization\n",
        "import plotly.express as px"
      ]
    },
    {
      "cell_type": "code",
      "execution_count": 51,
      "metadata": {
        "id": "EvD7KRaBj9dy"
      },
      "outputs": [],
      "source": [
        "classes = np.unique(testing_labels)\n",
        "\n",
        "confusion_matrix_data = confusion_matrix(testing_labels, predicted_testing_labels, labels=classes)"
      ]
    },
    {
      "cell_type": "code",
      "execution_count": 52,
      "metadata": {
        "id": "guHyXf_vj9dy"
      },
      "outputs": [],
      "source": [
        "TP = confusion_matrix_data[1,1]\n",
        "TN = confusion_matrix_data[0,0]\n",
        "FP = confusion_matrix_data[0,1]\n",
        "FN = confusion_matrix_data[1,0]"
      ]
    },
    {
      "cell_type": "code",
      "execution_count": 53,
      "metadata": {
        "colab": {
          "base_uri": "https://localhost:8080/"
        },
        "id": "FpqxYh-7j9dy",
        "outputId": "1e19305c-1f43-4b4a-a7f1-5b00b9654d78"
      },
      "outputs": [
        {
          "output_type": "stream",
          "name": "stdout",
          "text": [
            "0.8333333333333334\n"
          ]
        }
      ],
      "source": [
        "sn = TP / float(TP + FN)\n",
        "print(sn)"
      ]
    },
    {
      "cell_type": "code",
      "execution_count": 54,
      "metadata": {
        "colab": {
          "base_uri": "https://localhost:8080/"
        },
        "id": "NPGTyFCcj9dy",
        "outputId": "dfe99157-3fed-4eb8-a8e8-6a84af36951e"
      },
      "outputs": [
        {
          "output_type": "stream",
          "name": "stdout",
          "text": [
            "0.9523809523809523\n"
          ]
        }
      ],
      "source": [
        "sp = TN / float(TN + FP)\n",
        "print(sp)"
      ]
    },
    {
      "cell_type": "code",
      "execution_count": 55,
      "metadata": {
        "colab": {
          "base_uri": "https://localhost:8080/",
          "height": 542
        },
        "id": "yJyR0W1cj9dy",
        "outputId": "4a2b19cc-809f-4cfa-f1d2-ec63dd526f1b"
      },
      "outputs": [
        {
          "output_type": "display_data",
          "data": {
            "text/html": [
              "<html>\n",
              "<head><meta charset=\"utf-8\" /></head>\n",
              "<body>\n",
              "    <div>            <script src=\"https://cdnjs.cloudflare.com/ajax/libs/mathjax/2.7.5/MathJax.js?config=TeX-AMS-MML_SVG\"></script><script type=\"text/javascript\">if (window.MathJax) {MathJax.Hub.Config({SVG: {font: \"STIX-Web\"}});}</script>                <script type=\"text/javascript\">window.PlotlyConfig = {MathJaxConfig: 'local'};</script>\n",
              "        <script src=\"https://cdn.plot.ly/plotly-2.8.3.min.js\"></script>                <div id=\"5282a667-ede2-4ad5-83b3-e6eacb14c51e\" class=\"plotly-graph-div\" style=\"height:525px; width:100%;\"></div>            <script type=\"text/javascript\">                                    window.PLOTLYENV=window.PLOTLYENV || {};                                    if (document.getElementById(\"5282a667-ede2-4ad5-83b3-e6eacb14c51e\")) {                    Plotly.newPlot(                        \"5282a667-ede2-4ad5-83b3-e6eacb14c51e\",                        [{\"coloraxis\":\"coloraxis\",\"name\":\"0\",\"x\":[0,1],\"y\":[0,1],\"z\":[[40,2],[5,25]],\"type\":\"heatmap\",\"xaxis\":\"x\",\"yaxis\":\"y\",\"hovertemplate\":\"True label: %{x}<br>Predicted label: %{y}<br># of samples: %{z}<extra></extra>\"}],                        {\"template\":{\"data\":{\"bar\":[{\"error_x\":{\"color\":\"#2a3f5f\"},\"error_y\":{\"color\":\"#2a3f5f\"},\"marker\":{\"line\":{\"color\":\"#E5ECF6\",\"width\":0.5},\"pattern\":{\"fillmode\":\"overlay\",\"size\":10,\"solidity\":0.2}},\"type\":\"bar\"}],\"barpolar\":[{\"marker\":{\"line\":{\"color\":\"#E5ECF6\",\"width\":0.5},\"pattern\":{\"fillmode\":\"overlay\",\"size\":10,\"solidity\":0.2}},\"type\":\"barpolar\"}],\"carpet\":[{\"aaxis\":{\"endlinecolor\":\"#2a3f5f\",\"gridcolor\":\"white\",\"linecolor\":\"white\",\"minorgridcolor\":\"white\",\"startlinecolor\":\"#2a3f5f\"},\"baxis\":{\"endlinecolor\":\"#2a3f5f\",\"gridcolor\":\"white\",\"linecolor\":\"white\",\"minorgridcolor\":\"white\",\"startlinecolor\":\"#2a3f5f\"},\"type\":\"carpet\"}],\"choropleth\":[{\"colorbar\":{\"outlinewidth\":0,\"ticks\":\"\"},\"type\":\"choropleth\"}],\"contour\":[{\"colorbar\":{\"outlinewidth\":0,\"ticks\":\"\"},\"colorscale\":[[0.0,\"#0d0887\"],[0.1111111111111111,\"#46039f\"],[0.2222222222222222,\"#7201a8\"],[0.3333333333333333,\"#9c179e\"],[0.4444444444444444,\"#bd3786\"],[0.5555555555555556,\"#d8576b\"],[0.6666666666666666,\"#ed7953\"],[0.7777777777777778,\"#fb9f3a\"],[0.8888888888888888,\"#fdca26\"],[1.0,\"#f0f921\"]],\"type\":\"contour\"}],\"contourcarpet\":[{\"colorbar\":{\"outlinewidth\":0,\"ticks\":\"\"},\"type\":\"contourcarpet\"}],\"heatmap\":[{\"colorbar\":{\"outlinewidth\":0,\"ticks\":\"\"},\"colorscale\":[[0.0,\"#0d0887\"],[0.1111111111111111,\"#46039f\"],[0.2222222222222222,\"#7201a8\"],[0.3333333333333333,\"#9c179e\"],[0.4444444444444444,\"#bd3786\"],[0.5555555555555556,\"#d8576b\"],[0.6666666666666666,\"#ed7953\"],[0.7777777777777778,\"#fb9f3a\"],[0.8888888888888888,\"#fdca26\"],[1.0,\"#f0f921\"]],\"type\":\"heatmap\"}],\"heatmapgl\":[{\"colorbar\":{\"outlinewidth\":0,\"ticks\":\"\"},\"colorscale\":[[0.0,\"#0d0887\"],[0.1111111111111111,\"#46039f\"],[0.2222222222222222,\"#7201a8\"],[0.3333333333333333,\"#9c179e\"],[0.4444444444444444,\"#bd3786\"],[0.5555555555555556,\"#d8576b\"],[0.6666666666666666,\"#ed7953\"],[0.7777777777777778,\"#fb9f3a\"],[0.8888888888888888,\"#fdca26\"],[1.0,\"#f0f921\"]],\"type\":\"heatmapgl\"}],\"histogram\":[{\"marker\":{\"pattern\":{\"fillmode\":\"overlay\",\"size\":10,\"solidity\":0.2}},\"type\":\"histogram\"}],\"histogram2d\":[{\"colorbar\":{\"outlinewidth\":0,\"ticks\":\"\"},\"colorscale\":[[0.0,\"#0d0887\"],[0.1111111111111111,\"#46039f\"],[0.2222222222222222,\"#7201a8\"],[0.3333333333333333,\"#9c179e\"],[0.4444444444444444,\"#bd3786\"],[0.5555555555555556,\"#d8576b\"],[0.6666666666666666,\"#ed7953\"],[0.7777777777777778,\"#fb9f3a\"],[0.8888888888888888,\"#fdca26\"],[1.0,\"#f0f921\"]],\"type\":\"histogram2d\"}],\"histogram2dcontour\":[{\"colorbar\":{\"outlinewidth\":0,\"ticks\":\"\"},\"colorscale\":[[0.0,\"#0d0887\"],[0.1111111111111111,\"#46039f\"],[0.2222222222222222,\"#7201a8\"],[0.3333333333333333,\"#9c179e\"],[0.4444444444444444,\"#bd3786\"],[0.5555555555555556,\"#d8576b\"],[0.6666666666666666,\"#ed7953\"],[0.7777777777777778,\"#fb9f3a\"],[0.8888888888888888,\"#fdca26\"],[1.0,\"#f0f921\"]],\"type\":\"histogram2dcontour\"}],\"mesh3d\":[{\"colorbar\":{\"outlinewidth\":0,\"ticks\":\"\"},\"type\":\"mesh3d\"}],\"parcoords\":[{\"line\":{\"colorbar\":{\"outlinewidth\":0,\"ticks\":\"\"}},\"type\":\"parcoords\"}],\"pie\":[{\"automargin\":true,\"type\":\"pie\"}],\"scatter\":[{\"marker\":{\"colorbar\":{\"outlinewidth\":0,\"ticks\":\"\"}},\"type\":\"scatter\"}],\"scatter3d\":[{\"line\":{\"colorbar\":{\"outlinewidth\":0,\"ticks\":\"\"}},\"marker\":{\"colorbar\":{\"outlinewidth\":0,\"ticks\":\"\"}},\"type\":\"scatter3d\"}],\"scattercarpet\":[{\"marker\":{\"colorbar\":{\"outlinewidth\":0,\"ticks\":\"\"}},\"type\":\"scattercarpet\"}],\"scattergeo\":[{\"marker\":{\"colorbar\":{\"outlinewidth\":0,\"ticks\":\"\"}},\"type\":\"scattergeo\"}],\"scattergl\":[{\"marker\":{\"colorbar\":{\"outlinewidth\":0,\"ticks\":\"\"}},\"type\":\"scattergl\"}],\"scattermapbox\":[{\"marker\":{\"colorbar\":{\"outlinewidth\":0,\"ticks\":\"\"}},\"type\":\"scattermapbox\"}],\"scatterpolar\":[{\"marker\":{\"colorbar\":{\"outlinewidth\":0,\"ticks\":\"\"}},\"type\":\"scatterpolar\"}],\"scatterpolargl\":[{\"marker\":{\"colorbar\":{\"outlinewidth\":0,\"ticks\":\"\"}},\"type\":\"scatterpolargl\"}],\"scatterternary\":[{\"marker\":{\"colorbar\":{\"outlinewidth\":0,\"ticks\":\"\"}},\"type\":\"scatterternary\"}],\"surface\":[{\"colorbar\":{\"outlinewidth\":0,\"ticks\":\"\"},\"colorscale\":[[0.0,\"#0d0887\"],[0.1111111111111111,\"#46039f\"],[0.2222222222222222,\"#7201a8\"],[0.3333333333333333,\"#9c179e\"],[0.4444444444444444,\"#bd3786\"],[0.5555555555555556,\"#d8576b\"],[0.6666666666666666,\"#ed7953\"],[0.7777777777777778,\"#fb9f3a\"],[0.8888888888888888,\"#fdca26\"],[1.0,\"#f0f921\"]],\"type\":\"surface\"}],\"table\":[{\"cells\":{\"fill\":{\"color\":\"#EBF0F8\"},\"line\":{\"color\":\"white\"}},\"header\":{\"fill\":{\"color\":\"#C8D4E3\"},\"line\":{\"color\":\"white\"}},\"type\":\"table\"}]},\"layout\":{\"annotationdefaults\":{\"arrowcolor\":\"#2a3f5f\",\"arrowhead\":0,\"arrowwidth\":1},\"autotypenumbers\":\"strict\",\"coloraxis\":{\"colorbar\":{\"outlinewidth\":0,\"ticks\":\"\"}},\"colorscale\":{\"diverging\":[[0,\"#8e0152\"],[0.1,\"#c51b7d\"],[0.2,\"#de77ae\"],[0.3,\"#f1b6da\"],[0.4,\"#fde0ef\"],[0.5,\"#f7f7f7\"],[0.6,\"#e6f5d0\"],[0.7,\"#b8e186\"],[0.8,\"#7fbc41\"],[0.9,\"#4d9221\"],[1,\"#276419\"]],\"sequential\":[[0.0,\"#0d0887\"],[0.1111111111111111,\"#46039f\"],[0.2222222222222222,\"#7201a8\"],[0.3333333333333333,\"#9c179e\"],[0.4444444444444444,\"#bd3786\"],[0.5555555555555556,\"#d8576b\"],[0.6666666666666666,\"#ed7953\"],[0.7777777777777778,\"#fb9f3a\"],[0.8888888888888888,\"#fdca26\"],[1.0,\"#f0f921\"]],\"sequentialminus\":[[0.0,\"#0d0887\"],[0.1111111111111111,\"#46039f\"],[0.2222222222222222,\"#7201a8\"],[0.3333333333333333,\"#9c179e\"],[0.4444444444444444,\"#bd3786\"],[0.5555555555555556,\"#d8576b\"],[0.6666666666666666,\"#ed7953\"],[0.7777777777777778,\"#fb9f3a\"],[0.8888888888888888,\"#fdca26\"],[1.0,\"#f0f921\"]]},\"colorway\":[\"#636efa\",\"#EF553B\",\"#00cc96\",\"#ab63fa\",\"#FFA15A\",\"#19d3f3\",\"#FF6692\",\"#B6E880\",\"#FF97FF\",\"#FECB52\"],\"font\":{\"color\":\"#2a3f5f\"},\"geo\":{\"bgcolor\":\"white\",\"lakecolor\":\"white\",\"landcolor\":\"#E5ECF6\",\"showlakes\":true,\"showland\":true,\"subunitcolor\":\"white\"},\"hoverlabel\":{\"align\":\"left\"},\"hovermode\":\"closest\",\"mapbox\":{\"style\":\"light\"},\"paper_bgcolor\":\"white\",\"plot_bgcolor\":\"#E5ECF6\",\"polar\":{\"angularaxis\":{\"gridcolor\":\"white\",\"linecolor\":\"white\",\"ticks\":\"\"},\"bgcolor\":\"#E5ECF6\",\"radialaxis\":{\"gridcolor\":\"white\",\"linecolor\":\"white\",\"ticks\":\"\"}},\"scene\":{\"xaxis\":{\"backgroundcolor\":\"#E5ECF6\",\"gridcolor\":\"white\",\"gridwidth\":2,\"linecolor\":\"white\",\"showbackground\":true,\"ticks\":\"\",\"zerolinecolor\":\"white\"},\"yaxis\":{\"backgroundcolor\":\"#E5ECF6\",\"gridcolor\":\"white\",\"gridwidth\":2,\"linecolor\":\"white\",\"showbackground\":true,\"ticks\":\"\",\"zerolinecolor\":\"white\"},\"zaxis\":{\"backgroundcolor\":\"#E5ECF6\",\"gridcolor\":\"white\",\"gridwidth\":2,\"linecolor\":\"white\",\"showbackground\":true,\"ticks\":\"\",\"zerolinecolor\":\"white\"}},\"shapedefaults\":{\"line\":{\"color\":\"#2a3f5f\"}},\"ternary\":{\"aaxis\":{\"gridcolor\":\"white\",\"linecolor\":\"white\",\"ticks\":\"\"},\"baxis\":{\"gridcolor\":\"white\",\"linecolor\":\"white\",\"ticks\":\"\"},\"bgcolor\":\"#E5ECF6\",\"caxis\":{\"gridcolor\":\"white\",\"linecolor\":\"white\",\"ticks\":\"\"}},\"title\":{\"x\":0.05},\"xaxis\":{\"automargin\":true,\"gridcolor\":\"white\",\"linecolor\":\"white\",\"ticks\":\"\",\"title\":{\"standoff\":15},\"zerolinecolor\":\"white\",\"zerolinewidth\":2},\"yaxis\":{\"automargin\":true,\"gridcolor\":\"white\",\"linecolor\":\"white\",\"ticks\":\"\",\"title\":{\"standoff\":15},\"zerolinecolor\":\"white\",\"zerolinewidth\":2}}},\"xaxis\":{\"anchor\":\"y\",\"domain\":[0.0,1.0],\"scaleanchor\":\"y\",\"constrain\":\"domain\",\"title\":{\"text\":\"True label\"}},\"yaxis\":{\"anchor\":\"x\",\"domain\":[0.0,1.0],\"autorange\":\"reversed\",\"constrain\":\"domain\",\"title\":{\"text\":\"Predicted label\"}},\"coloraxis\":{\"colorbar\":{\"title\":{\"text\":\"# of samples\"}},\"colorscale\":[[0.0,\"rgb(254, 254, 253)\"],[0.09090909090909091,\"rgb(224, 224, 223)\"],[0.18181818181818182,\"rgb(197, 197, 195)\"],[0.2727272727272727,\"rgb(171, 171, 170)\"],[0.36363636363636365,\"rgb(146, 146, 145)\"],[0.45454545454545453,\"rgb(124, 123, 122)\"],[0.5454545454545454,\"rgb(102, 101, 101)\"],[0.6363636363636364,\"rgb(81, 80, 80)\"],[0.7272727272727273,\"rgb(59, 59, 59)\"],[0.8181818181818182,\"rgb(38, 38, 38)\"],[0.9090909090909091,\"rgb(16, 16, 16)\"],[1.0,\"rgb(0, 0, 0)\"]]},\"margin\":{\"t\":60}},                        {\"responsive\": true}                    ).then(function(){\n",
              "                            \n",
              "var gd = document.getElementById('5282a667-ede2-4ad5-83b3-e6eacb14c51e');\n",
              "var x = new MutationObserver(function (mutations, observer) {{\n",
              "        var display = window.getComputedStyle(gd).display;\n",
              "        if (!display || display === 'none') {{\n",
              "            console.log([gd, 'removed!']);\n",
              "            Plotly.purge(gd);\n",
              "            observer.disconnect();\n",
              "        }}\n",
              "}});\n",
              "\n",
              "// Listen for the removal of the full notebook cells\n",
              "var notebookContainer = gd.closest('#notebook-container');\n",
              "if (notebookContainer) {{\n",
              "    x.observe(notebookContainer, {childList: true});\n",
              "}}\n",
              "\n",
              "// Listen for the clearing of the current output cell\n",
              "var outputEl = gd.closest('.output');\n",
              "if (outputEl) {{\n",
              "    x.observe(outputEl, {childList: true});\n",
              "}}\n",
              "\n",
              "                        })                };                            </script>        </div>\n",
              "</body>\n",
              "</html>"
            ]
          },
          "metadata": {}
        }
      ],
      "source": [
        "confusion_matrix_figure = px.imshow(\n",
        "    confusion_matrix_data,\n",
        "    labels=dict(x=\"True label\", y=\"Predicted label\", color=\"# of samples\"),\n",
        "    x=classes,\n",
        "    y=classes,\n",
        "    color_continuous_scale='Gray_r'\n",
        ")\n",
        "confusion_matrix_figure.show()"
      ]
    },
    {
      "cell_type": "markdown",
      "metadata": {
        "id": "x4GdUnvG_-ZQ"
      },
      "source": [
        "### MLP"
      ]
    },
    {
      "cell_type": "code",
      "execution_count": null,
      "metadata": {
        "id": "qDtBAkOi7R4i"
      },
      "outputs": [],
      "source": [
        "import tensorflow as tf\n",
        "from keras.models import Model, Sequential\n",
        "from keras.layers import Input, Dense, Dropout, Activation\n",
        "from keras.callbacks import TensorBoard, ModelCheckpoint, EarlyStopping, CSVLogger"
      ]
    },
    {
      "cell_type": "code",
      "execution_count": null,
      "metadata": {
        "id": "uoIc1Jtfx1NF"
      },
      "outputs": [],
      "source": [
        "X_train, X_test= train_dataset, test_dataset\n",
        "y_train, y_test = training_labels, testing_labels"
      ]
    },
    {
      "cell_type": "code",
      "execution_count": null,
      "metadata": {
        "id": "eXqnJjz9exCE"
      },
      "outputs": [],
      "source": [
        "#seed_value= 100\n",
        "#tf.random.set_seed(seed_value)\n",
        "n_cols = X_train.shape[1]\n",
        "n_cols"
      ]
    },
    {
      "cell_type": "code",
      "execution_count": null,
      "metadata": {
        "id": "SdQovHxve07N"
      },
      "outputs": [],
      "source": [
        "model = Sequential()\n",
        "model.add(Dense(30,activation='relu', input_shape=(n_cols,)))\n",
        "#model.add(Dense(2, activation='relu'))\n",
        "model.add(Dense(1, activation='sigmoid'))"
      ]
    },
    {
      "cell_type": "code",
      "execution_count": null,
      "metadata": {
        "id": "X90_feOQGK8x"
      },
      "outputs": [],
      "source": [
        "model.compile(optimizer=tf.keras.optimizers.Adam(learning_rate=0.001, beta_1=0.9, beta_2=0.999, epsilon=1e-08), loss=\"mse\", metrics=\"accuracy\", )"
      ]
    },
    {
      "cell_type": "code",
      "execution_count": null,
      "metadata": {
        "id": "fXD_MjdFGLLf"
      },
      "outputs": [],
      "source": [
        "checkpointer = ModelCheckpoint(\n",
        "    filepath='folder/.{epoch:03d}-{val_loss:.3f}.h5',\n",
        "    verbose=1,\n",
        "    save_best_only=True)"
      ]
    },
    {
      "cell_type": "code",
      "execution_count": null,
      "metadata": {
        "id": "M4lZf20hsa2N"
      },
      "outputs": [],
      "source": [
        "es = EarlyStopping(monitor='val_loss', patience=150)"
      ]
    },
    {
      "cell_type": "code",
      "execution_count": null,
      "metadata": {
        "id": "1nuaKoN-GIg8"
      },
      "outputs": [],
      "source": [
        "history = model.fit(X_train, y_train,  \n",
        "   epochs = 1000, \n",
        "   verbose = 0, \n",
        "   validation_data=(X_test,y_test), shuffle=True, validation_split = 0.1\n",
        "  # callbacks = [es, checkpointer]\n",
        ")"
      ]
    },
    {
      "cell_type": "code",
      "execution_count": null,
      "metadata": {
        "id": "bGwoWzjh0aFH"
      },
      "outputs": [],
      "source": [
        "y_pred = model.predict(X_test)"
      ]
    },
    {
      "cell_type": "code",
      "execution_count": null,
      "metadata": {
        "id": "BecSrkLj0fol"
      },
      "outputs": [],
      "source": [
        "y_pred = np.reshape(y_pred,(len(y_pred),)).astype(int)"
      ]
    },
    {
      "cell_type": "code",
      "execution_count": null,
      "metadata": {
        "id": "ga12a1A00gmy"
      },
      "outputs": [],
      "source": [
        "print(classification_report(y_test, y_pred))"
      ]
    },
    {
      "cell_type": "code",
      "execution_count": null,
      "metadata": {
        "id": "3TEQJqRxrHap"
      },
      "outputs": [],
      "source": [
        "print(matthews_corrcoef(y_test, y_pred))"
      ]
    },
    {
      "cell_type": "code",
      "execution_count": null,
      "metadata": {
        "id": "v2Gi5c7qjf1x"
      },
      "outputs": [],
      "source": [
        "display_model_score(model,\n",
        "    [X_train, y_train],\n",
        "    [X_test, y_test],\n",
        "    [X_test, y_test],\n",
        "    256)"
      ]
    },
    {
      "cell_type": "code",
      "execution_count": null,
      "metadata": {
        "id": "nz_WmHPa3vyl"
      },
      "outputs": [],
      "source": [
        "classes = np.unique(y_test)\n",
        "\n",
        "confusion_matrix_data = confusion_matrix(y_test, y_pred, labels=classes)\n",
        "\n",
        "confusion_matrix_figure = px.imshow(\n",
        "    confusion_matrix_data,\n",
        "    labels=dict(x=\"True label\", y=\"Predicted label\", color=\"# of samples\"),\n",
        "    x=classes,\n",
        "    y=classes,\n",
        "    color_continuous_scale='Gray_r'\n",
        ")\n",
        "confusion_matrix_figure.show()"
      ]
    },
    {
      "cell_type": "code",
      "execution_count": null,
      "metadata": {
        "id": "geRl9dPG3wAm"
      },
      "outputs": [],
      "source": [
        "TP = confusion_matrix_data[1,1]\n",
        "TN = confusion_matrix_data[0,0]\n",
        "FP = confusion_matrix_data[0,1]\n",
        "FN = confusion_matrix_data[1,0]\n",
        "\n",
        "sn = TP / float(TP + FN)\n",
        "print(sn)\n",
        "sp = TN / float(TN + FP)\n",
        "print(sp)"
      ]
    },
    {
      "cell_type": "code",
      "execution_count": null,
      "metadata": {
        "id": "vppRZcnfjcHl"
      },
      "outputs": [],
      "source": [
        "plot_history(history)"
      ]
    },
    {
      "cell_type": "code",
      "execution_count": null,
      "metadata": {
        "id": "0lsymQG-Lg0o"
      },
      "outputs": [],
      "source": [
        "model.save_weights('MLP.h5')"
      ]
    },
    {
      "cell_type": "markdown",
      "metadata": {
        "id": "L51kTUhGzRCT"
      },
      "source": [
        "### CNN"
      ]
    },
    {
      "cell_type": "code",
      "execution_count": null,
      "metadata": {
        "id": "W28egFxYjwrR"
      },
      "outputs": [],
      "source": [
        "import tensorflow as tf\n",
        "from keras.models import Model, Sequential\n",
        "from keras.layers import Input, Dense, Dropout, Activation\n",
        "from keras.callbacks import TensorBoard, ModelCheckpoint, EarlyStopping, CSVLogger\n",
        "from keras.wrappers.scikit_learn import KerasClassifier"
      ]
    },
    {
      "cell_type": "code",
      "execution_count": null,
      "metadata": {
        "id": "juF7N1OazXwC"
      },
      "outputs": [],
      "source": [
        "from keras.layers.convolutional import Conv1D\n",
        "from keras.layers.convolutional import MaxPooling1D\n",
        "from keras.layers import Embedding\n",
        "from keras.preprocessing import sequence\n",
        "from keras.layers import Dense\n",
        "from keras.layers import Flatten\n",
        "from keras.utils import to_categorical\n",
        "from keras.preprocessing.image import ImageDataGenerator\n",
        "from time import time"
      ]
    },
    {
      "cell_type": "code",
      "execution_count": null,
      "metadata": {
        "id": "cVqOGb-6jVGE"
      },
      "outputs": [],
      "source": [
        "X_train, X_test= train_dataset, test_dataset\n",
        "y_train, y_test = training_labels, testing_labels"
      ]
    },
    {
      "cell_type": "code",
      "execution_count": null,
      "metadata": {
        "id": "q5oIAt_tzPi2"
      },
      "outputs": [],
      "source": [
        "Y_train = np.reshape(y_train,(len(y_train),1)).astype(int)\n",
        "Y_test = np.reshape(y_test,(len(y_test),1)).astype(int)"
      ]
    },
    {
      "cell_type": "code",
      "execution_count": null,
      "metadata": {
        "id": "hHGAzu9nza0P"
      },
      "outputs": [],
      "source": [
        "n_timesteps, n_features, n_outputs =train_dataset.shape[0], train_dataset.shape[1], Y_train.shape[1]"
      ]
    },
    {
      "cell_type": "code",
      "execution_count": null,
      "metadata": {
        "id": "2-qd7WdmzdNQ"
      },
      "outputs": [],
      "source": [
        "# Building the CNN Model\n",
        "cnn_model = Sequential()      # initializing the Sequential nature for CNN model"
      ]
    },
    {
      "cell_type": "code",
      "execution_count": null,
      "metadata": {
        "id": "3jg1sSNozfti"
      },
      "outputs": [],
      "source": [
        "cnn_model.add(Conv1D(filters=128, kernel_size=1, \n",
        "activation='relu',input_shape=(n_features,1)))\n",
        "#cnn_model.add(Conv1D(filters=128, kernel_size=1, activation='relu'))\n",
        "#cnn_model.add(Dropout(0.5))\n",
        "cnn_model.add(MaxPooling1D(pool_size=2))\n",
        "cnn_model.add(Flatten())\n",
        "cnn_model.add(Dense(250, activation='relu'))\n",
        "cnn_model.add(Dense(n_outputs, activation='sigmoid'))"
      ]
    },
    {
      "cell_type": "code",
      "execution_count": null,
      "metadata": {
        "id": "CGkcI2uyzh7S"
      },
      "outputs": [],
      "source": [
        "cnn_model.compile(loss='binary_crossentropy', \n",
        "                  optimizer=tf.keras.optimizers.Adam(learning_rate=1e-3), \n",
        "                  metrics=['accuracy'])"
      ]
    },
    {
      "cell_type": "code",
      "execution_count": null,
      "metadata": {
        "id": "bZ1n1as1zkG1"
      },
      "outputs": [],
      "source": [
        "cnn_model.summary()"
      ]
    },
    {
      "cell_type": "code",
      "execution_count": null,
      "metadata": {
        "id": "-4w2-F0S-mmW"
      },
      "outputs": [],
      "source": [
        "es = EarlyStopping(monitor='val_loss', patience=150, verbose=1)"
      ]
    },
    {
      "cell_type": "code",
      "execution_count": null,
      "metadata": {
        "id": "2FexXQeWzmUn"
      },
      "outputs": [],
      "source": [
        "# fit network\n",
        "history = cnn_model.fit(train_dataset, Y_train, \n",
        "                        validation_data=(test_dataset, Y_test),\n",
        "                        callbacks=[es],\n",
        "                        epochs=500, batch_size=256, verbose=1\n",
        "                        )"
      ]
    },
    {
      "cell_type": "code",
      "execution_count": null,
      "metadata": {
        "id": "zV5zNmbzzpIs"
      },
      "outputs": [],
      "source": [
        "plot_history(history)"
      ]
    },
    {
      "cell_type": "code",
      "execution_count": null,
      "metadata": {
        "id": "mSW3UaMxztcA"
      },
      "outputs": [],
      "source": [
        "display_model_score(cnn_model,\n",
        "    [train_dataset, Y_train],\n",
        "    [test_dataset, Y_test],\n",
        "    [test_dataset, Y_test],\n",
        "    256)"
      ]
    },
    {
      "cell_type": "code",
      "execution_count": null,
      "metadata": {
        "id": "K_YafGfGzvvK"
      },
      "outputs": [],
      "source": [
        "y_pred = cnn_model.predict(test_dataset)"
      ]
    },
    {
      "cell_type": "code",
      "execution_count": null,
      "metadata": {
        "id": "pNkmcnZgzwXv"
      },
      "outputs": [],
      "source": [
        "y_pred = np.reshape(y_pred,(len(y_pred),)).astype(int)"
      ]
    },
    {
      "cell_type": "code",
      "execution_count": null,
      "metadata": {
        "id": "9mY6xOrkzy24"
      },
      "outputs": [],
      "source": [
        "print(classification_report(Y_test, y_pred))"
      ]
    },
    {
      "cell_type": "code",
      "execution_count": null,
      "metadata": {
        "id": "E5-A0mNHrMmk"
      },
      "outputs": [],
      "source": [
        "print(matthews_corrcoef(Y_test, y_pred))"
      ]
    },
    {
      "cell_type": "code",
      "execution_count": null,
      "metadata": {
        "id": "CYYSjvKH09Ug"
      },
      "outputs": [],
      "source": [
        "classes = np.unique(Y_test)\n",
        "\n",
        "confusion_matrix_data = confusion_matrix(Y_test, y_pred, labels=classes)\n",
        "\n",
        "confusion_matrix_figure = px.imshow(\n",
        "    confusion_matrix_data,\n",
        "    labels=dict(x=\"True label\", y=\"Predicted label\", color=\"# of samples\"),\n",
        "    x=classes,\n",
        "    y=classes,\n",
        "    color_continuous_scale='Gray_r'\n",
        ")\n",
        "confusion_matrix_figure.show()"
      ]
    },
    {
      "cell_type": "code",
      "execution_count": null,
      "metadata": {
        "id": "Kw80RIHq3dts"
      },
      "outputs": [],
      "source": [
        "TP = confusion_matrix_data[1,1]\n",
        "TN = confusion_matrix_data[0,0]\n",
        "FP = confusion_matrix_data[0,1]\n",
        "FN = confusion_matrix_data[1,0]\n",
        "\n",
        "print(TP,TN, FP, FN)\n",
        "\n",
        "sn = TP / float(TP + FN)\n",
        "print(sn)\n",
        "sp = TN / float(TN + FP)\n",
        "print(sp)"
      ]
    },
    {
      "cell_type": "code",
      "execution_count": null,
      "metadata": {
        "id": "IBekoqvCXiJH"
      },
      "outputs": [],
      "source": [
        "cnn_model.save_weights('CNN.h5')"
      ]
    },
    {
      "cell_type": "markdown",
      "metadata": {
        "id": "Q5EKn4vmgSA9"
      },
      "source": [
        "## Visualization\n"
      ]
    },
    {
      "cell_type": "code",
      "execution_count": null,
      "metadata": {
        "id": "OGffLtH03vKz"
      },
      "outputs": [],
      "source": [
        "embeddings =list(map(lambda x: x[1], proteins))"
      ]
    },
    {
      "cell_type": "code",
      "execution_count": null,
      "metadata": {
        "id": "rLHorbm1sbOq"
      },
      "outputs": [],
      "source": [
        "p = np.array(embeddings)\n",
        "type(p)\n",
        "p.shape\n",
        "p = p.reshape(2809,1024)\n",
        "p.shape"
      ]
    },
    {
      "cell_type": "code",
      "execution_count": null,
      "metadata": {
        "id": "xGxoul2I8IQ0"
      },
      "outputs": [],
      "source": [
        "def compute_pca(X, n_components=2):\n",
        "    \"\"\"\n",
        "    Input:\n",
        "        X: of dimension (m,n) where each row corresponds to a word vector\n",
        "        n_components: Number of components you want to keep.\n",
        "    Output:\n",
        "        X_reduced: data transformed in 2 dims/columns + regenerated original data\n",
        "    pass in: data as 2D NumPy array\n",
        "    \"\"\"\n",
        "\n",
        "    ### START CODE HERE ###\n",
        "    # mean center the data\n",
        "    X_demeaned = X - X.mean(axis=0)\n",
        "\n",
        "    # calculate the covariance matrix\n",
        "    covariance_matrix = np.cov(X_demeaned, rowvar=False)\n",
        "\n",
        "    # calculate eigenvectors & eigenvalues of the covariance matrix\n",
        "    eigen_vals, eigen_vecs = np.linalg.eigh(covariance_matrix)\n",
        "\n",
        "    # sort eigenvalue in increasing order (get the indices from the sort)\n",
        "    idx_sorted = np.argsort(eigen_vals)\n",
        "    \n",
        "    # reverse the order so that it's from highest to lowest.\n",
        "    idx_sorted_decreasing = list(reversed(idx_sorted))\n",
        "\n",
        "    # sort the eigen values by idx_sorted_decreasing\n",
        "    eigen_vals_sorted = eigen_vals[idx_sorted_decreasing]\n",
        "\n",
        "    # sort eigenvectors using the idx_sorted_decreasing indices\n",
        "    eigen_vecs_sorted = eigen_vecs[:, idx_sorted_decreasing]\n",
        "\n",
        "    # select the first n eigenvectors (n is desired dimension\n",
        "    # of rescaled data array, or dims_rescaled_data)\n",
        "    eigen_vecs_subset = eigen_vecs_sorted[:, :n_components]\n",
        "\n",
        "    # transform the data by multiplying the transpose of the eigenvectors with the transpose of the de-meaned data\n",
        "    # Then take the transpose of that product.\n",
        "    X_reduced = np.dot(eigen_vecs_subset.T, X_demeaned.T).T\n",
        "\n",
        "    ### END CODE HERE ###\n",
        "\n",
        "    return X_reduced"
      ]
    },
    {
      "cell_type": "code",
      "execution_count": null,
      "metadata": {
        "id": "TiBjifl0sycb"
      },
      "outputs": [],
      "source": [
        "result = compute_pca(p, 2)\n",
        "plt.scatter(result[:, 0], result[:, 1])\n",
        "plt.figure(figsize = (20, 16))\n",
        "for i, word in enumerate(annotations.identifier):\n",
        "    plt.annotate(word, xy=(result[i, 0] - 0.0005, result[i, 1] + 0.001))\n",
        "\n",
        "plt.show()"
      ]
    },
    {
      "cell_type": "code",
      "execution_count": null,
      "metadata": {
        "id": "5HxV3_R6syme"
      },
      "outputs": [],
      "source": [
        "proteins_reduced = compute_pca(p, n_components=5)\n",
        "print(proteins_reduced)"
      ]
    },
    {
      "cell_type": "code",
      "execution_count": null,
      "metadata": {
        "id": "kEihg6yR8ewz"
      },
      "outputs": [],
      "source": [
        "from sklearn.decomposition import PCA\n",
        "\n",
        "pca = PCA(n_components=5, svd_solver='full')\n",
        "pca.fit(p)\n",
        "print(pca.explained_variance_ratio_)\n",
        "print(pca.singular_values_)\n",
        "print(pca.score(p))\n",
        "print(pca.transform(p))"
      ]
    },
    {
      "cell_type": "code",
      "execution_count": null,
      "metadata": {
        "id": "fcTRLVgRs72s"
      },
      "outputs": [],
      "source": [
        "from sklearn.manifold import TSNE"
      ]
    },
    {
      "cell_type": "code",
      "execution_count": null,
      "metadata": {
        "id": "7t_5ECRss8bg"
      },
      "outputs": [],
      "source": [
        "def reduce_dim(weights, components = 3, method = 'tsne'):\n",
        "    \"\"\"Reduce dimensions of embeddings\"\"\"\n",
        "    if method == 'tsne':\n",
        "        return TSNE(components, metric = 'cosine').fit_transform(weights)\n",
        "    elif method == 'umap':\n",
        "        # Might want to try different parameters for UMAP\n",
        "        return UMAP(n_components=components, metric = 'cosine', \n",
        "                    init = 'random', n_neighbors = 5).fit_transform(weights)"
      ]
    },
    {
      "cell_type": "code",
      "execution_count": null,
      "metadata": {
        "id": "p5_DXp4Bs-iC"
      },
      "outputs": [],
      "source": [
        "protein_r = reduce_dim(p, components = 2, method = 'tsne')\n",
        "protein_r.shape"
      ]
    },
    {
      "cell_type": "code",
      "execution_count": null,
      "metadata": {
        "id": "yLOS1LoRs-lZ"
      },
      "outputs": [],
      "source": [
        "from IPython.core.interactiveshell import InteractiveShell\n",
        "\n",
        "# Set shell to show all lines of output\n",
        "InteractiveShell.ast_node_interactivity = 'all'"
      ]
    },
    {
      "cell_type": "code",
      "execution_count": null,
      "metadata": {
        "id": "LbCPkgtatFTg"
      },
      "outputs": [],
      "source": [
        "InteractiveShell.ast_node_interactivity = 'last'\n",
        "\n",
        "plt.figure(figsize = (20, 16))\n",
        "plt.plot(protein_r[:, 0], protein_r[:, 1], 'r.')\n",
        "plt.xlabel('TSNE 1'); plt.ylabel('TSNE 2'); plt.title('Protein Embeddings Visualized with TSNE');"
      ]
    },
    {
      "cell_type": "code",
      "execution_count": null,
      "metadata": {
        "id": "oqXeTzb7tOR3"
      },
      "outputs": [],
      "source": [
        "gen = ['non thermophilic', 'themophilic']\n",
        "ints = annotations.label\n",
        "\n",
        "plt.figure(figsize = (10, 8))\n",
        "\n",
        "# Plot embedding\n",
        "plt.scatter(protein_r[:, 0], protein_r[:, 1], c = ints)#, cmap = plt.cm.tab10)\n",
        "\n",
        "# Add colorbar and appropriate labels\n",
        "cbar = plt.colorbar()\n",
        "cbar.set_ticks([])\n",
        "for j, lab in enumerate(gen):\n",
        "    cbar.ax.text(1, (2 * j + 1) / ((10) * 2), lab, ha='left', va='center')\n",
        "cbar.ax.set_title('Label', loc = 'left')\n",
        "\n",
        "\n",
        "plt.xlabel('TSNE 1'); plt.ylabel('TSNE 2'); plt.title('TSNE Visualization of Protein Embeddings');"
      ]
    },
    {
      "cell_type": "markdown",
      "metadata": {
        "id": "cc9lhZYp7ZVZ"
      },
      "source": [
        "### BLSTM"
      ]
    },
    {
      "cell_type": "code",
      "execution_count": null,
      "metadata": {
        "id": "CslowuzHMlka"
      },
      "outputs": [],
      "source": [
        "from keras.layers import Embedding, Bidirectional, CuDNNLSTM, GlobalMaxPooling1D, LSTM\n",
        "from keras.regularizers import l2"
      ]
    },
    {
      "cell_type": "code",
      "execution_count": null,
      "metadata": {
        "id": "09WERpyscZ08"
      },
      "outputs": [],
      "source": [
        "x_input = Input(shape=(1024,))\n",
        "emb = Embedding(20, 512, input_length=1024)(x_input)\n",
        "bi_rnn = Bidirectional(CuDNNLSTM(256))(emb) #, kernel_regularizer=l2(0.0001), recurrent_regularizer=l2(0.0001), bias_regularizer=l2(0.0001)\n",
        "#bi_rnn = LSTM(512)(emb)\n",
        "#x = Dropout(0.2)(bi_rnn)\n",
        "\n",
        "# sigmoid classifier\n",
        "x_output = Dense(1, activation='sigmoid')(bi_rnn)\n",
        "\n",
        "blstm = Model(inputs=x_input, outputs=x_output)"
      ]
    },
    {
      "cell_type": "code",
      "execution_count": null,
      "metadata": {
        "id": "kqwrlwFWctxB"
      },
      "outputs": [],
      "source": [
        "blstm.summary()"
      ]
    },
    {
      "cell_type": "code",
      "execution_count": null,
      "metadata": {
        "id": "lvJzq--R7f_8"
      },
      "outputs": [],
      "source": [
        "# Early Stopping\n",
        "es = EarlyStopping(monitor='val_loss', patience=150, verbose=1)"
      ]
    },
    {
      "cell_type": "code",
      "execution_count": null,
      "metadata": {
        "id": "axvR2gX37gpo"
      },
      "outputs": [],
      "source": [
        "blstm.compile(\n",
        "        optimizer=tf.keras.optimizers.Adam(learning_rate=1e-3),\n",
        "        loss='binary_crossentropy',\n",
        "        metrics=['accuracy'],\n",
        "    )"
      ]
    },
    {
      "cell_type": "code",
      "execution_count": null,
      "metadata": {
        "id": "4miGD2dz7laj"
      },
      "outputs": [],
      "source": [
        "history = blstm.fit(\n",
        "     X_train, y_train,\n",
        "     epochs=100, batch_size=512,\n",
        "     validation_data=(X_test, y_test),\n",
        "     callbacks=[es]\n",
        "     )"
      ]
    },
    {
      "cell_type": "code",
      "execution_count": null,
      "metadata": {
        "id": "vdd21gxV83DA"
      },
      "outputs": [],
      "source": [
        "plot_history(history)"
      ]
    },
    {
      "cell_type": "code",
      "execution_count": null,
      "metadata": {
        "id": "WxZOrs4c8_vl"
      },
      "outputs": [],
      "source": [
        "display_model_score(blstm,\n",
        "    [X_train, y_train],\n",
        "    [X_test, y_test],\n",
        "    [X_test, y_test],\n",
        "    256)"
      ]
    },
    {
      "cell_type": "code",
      "execution_count": null,
      "metadata": {
        "id": "7r-FmTxjvhed"
      },
      "outputs": [],
      "source": [
        "y_pred = blstm.predict(X_test)"
      ]
    },
    {
      "cell_type": "code",
      "execution_count": null,
      "metadata": {
        "id": "Yc-C9Omnwv4S"
      },
      "outputs": [],
      "source": [
        "y_pred = np.reshape(y_pred,(len(y_pred),)).astype(int)"
      ]
    },
    {
      "cell_type": "code",
      "execution_count": null,
      "metadata": {
        "id": "nOtY5y-3vAIx"
      },
      "outputs": [],
      "source": [
        "print(classification_report(y_test, y_pred))"
      ]
    },
    {
      "cell_type": "code",
      "execution_count": null,
      "metadata": {
        "id": "jTeIkIFEUIxa"
      },
      "outputs": [],
      "source": [
        "blstm.save_weights('BLSTM.h5')"
      ]
    }
  ],
  "metadata": {
    "colab": {
      "collapsed_sections": [
        "ydyh-KnUWTNV",
        "8eEXVSpeI8Un",
        "x4GdUnvG_-ZQ",
        "L51kTUhGzRCT"
      ],
      "machine_shape": "hm",
      "provenance": []
    },
    "gpuClass": "standard",
    "kernelspec": {
      "display_name": "Python 3",
      "name": "python3"
    },
    "language_info": {
      "name": "python"
    }
  },
  "nbformat": 4,
  "nbformat_minor": 0
}